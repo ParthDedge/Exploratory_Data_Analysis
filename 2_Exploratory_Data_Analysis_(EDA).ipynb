{
  "nbformat": 4,
  "nbformat_minor": 0,
  "metadata": {
    "colab": {
      "provenance": []
    },
    "kernelspec": {
      "name": "python3",
      "display_name": "Python 3"
    },
    "language_info": {
      "name": "python"
    }
  },
  "cells": [
    {
      "cell_type": "markdown",
      "source": [
        "##**Aim: Carry out exploratory data analysis of the processed data**##"
      ],
      "metadata": {
        "id": "HAqxW0uUjf57"
      }
    },
    {
      "cell_type": "markdown",
      "source": [
        "##**Theory**"
      ],
      "metadata": {
        "id": "i_KZ_2V8j41Q"
      }
    },
    {
      "cell_type": "markdown",
      "source": [
        "Exploratory Data Analysis (EDA) is an approach to analyze the data using visual techniques. It is used to discover trends, patterns, or to check assumptions with the help of statistical summary and graphical representations. EDA understand the data in depth and learn the different data characteristics, often with visual means. This allows to get a better feel of the data and find useful patterns in it.        \n"
      ],
      "metadata": {
        "id": "CoyKmzm4j6xQ"
      }
    },
    {
      "cell_type": "markdown",
      "source": [
        "**Steps Involved in Exploratory Data Analysis**"
      ],
      "metadata": {
        "id": "Y9sWPO-Sufj1"
      }
    },
    {
      "cell_type": "markdown",
      "source": [
        "1. Data Collection,\n",
        "2. Data Cleaning,\n",
        "3. Univariate Analysis,\n",
        "4. Bivariate Analysis,\n",
        "5. Multivariate analysis, etc."
      ],
      "metadata": {
        "id": "iObGVWkDulhj"
      }
    },
    {
      "cell_type": "markdown",
      "source": [
        "Data collection and data cleaning is already studied in data-preprocessing practical.\n",
        "\n"
      ],
      "metadata": {
        "id": "5ScbnbuSvJW9"
      }
    },
    {
      "cell_type": "markdown",
      "source": [
        "**Univariate Analysis**\n",
        "In Univariate Analysis, you analyze data of just one variable. A variable in your dataset refers to a single feature/ column. You can do this either with graphical or non-graphical means by finding specific mathematical values in the data. Some visual methods include:\n",
        "\n",
        "Histograms: Bar plots in which the frequency of data is represented with rectangle bars.\n",
        "Box-plots: Here the information is represented in the form of boxes."
      ],
      "metadata": {
        "id": "Gh6x1hW4vxY0"
      }
    },
    {
      "cell_type": "markdown",
      "source": [
        "**Bivariate Analysis**\n",
        "In this analysis, two variables are considered and compare them. This way, you can find how one feature affects the other. It is done with scatter plots, which plot individual data points or correlation matrices that plot the correlation in hues."
      ],
      "metadata": {
        "id": "hmoHf4WAv9fN"
      }
    },
    {
      "cell_type": "markdown",
      "source": [
        "**Multivariate Analysis**\n",
        "A heat map is used for Multivariate Analysis\n",
        "Heat Map gives the correlation between the variables, whether it has a positive or negative correlation."
      ],
      "metadata": {
        "id": "FNIJZbCiwems"
      }
    },
    {
      "cell_type": "markdown",
      "source": [
        "##**Import required libraries**"
      ],
      "metadata": {
        "id": "OJZKnHGXw0i0"
      }
    },
    {
      "cell_type": "code",
      "execution_count": null,
      "metadata": {
        "id": "CrCuhnVMB2dD"
      },
      "outputs": [],
      "source": [
        "import numpy as np\n",
        "import pandas as pd"
      ]
    },
    {
      "cell_type": "markdown",
      "source": [
        "## **Import \"cars_EDA_analysis.csv\" data**"
      ],
      "metadata": {
        "id": "c7phdG-tCpKh"
      }
    },
    {
      "cell_type": "code",
      "source": [
        "df=pd.read_csv(\"/content/drive/MyDrive/AIR/Study material/Lab/2. EDA/Dataset/cars_EDA_analysis.csv\")\n",
        "df"
      ],
      "metadata": {
        "colab": {
          "base_uri": "https://localhost:8080/",
          "height": 887
        },
        "id": "o9XYUyCmB67c",
        "outputId": "8e62ac6d-451d-4c14-b118-5975a4dba233"
      },
      "execution_count": null,
      "outputs": [
        {
          "output_type": "execute_result",
          "data": {
            "text/plain": [
              "      S.No.                                               Name    Location  \\\n",
              "0         0                             Maruti Wagon R LXI CNG      Mumbai   \n",
              "1         1                   Hyundai Creta 1.6 CRDi SX Option        Pune   \n",
              "2         2                                       Honda Jazz V     Chennai   \n",
              "3         3                                  Maruti Ertiga VDI     Chennai   \n",
              "4         4                    Audi A4 New 2.0 TDI Multitronic  Coimbatore   \n",
              "...     ...                                                ...         ...   \n",
              "7248   7248                  Volkswagen Vento Diesel Trendline   Hyderabad   \n",
              "7249   7249                             Volkswagen Polo GT TSI      Mumbai   \n",
              "7250   7250                             Nissan Micra Diesel XV     Kolkata   \n",
              "7251   7251                             Volkswagen Polo GT TSI        Pune   \n",
              "7252   7252  Mercedes-Benz E-Class 2009-2013 E 220 CDI Avan...       Kochi   \n",
              "\n",
              "      Year  Kilometers_Driven Fuel_Type Transmission Owner_Type     Mileage  \\\n",
              "0     2010              72000       CNG       Manual      First  26.6 km/kg   \n",
              "1     2015              41000    Diesel       Manual      First  19.67 kmpl   \n",
              "2     2011              46000    Petrol       Manual      First   18.2 kmpl   \n",
              "3     2012              87000    Diesel       Manual      First  20.77 kmpl   \n",
              "4     2013              40670    Diesel    Automatic     Second   15.2 kmpl   \n",
              "...    ...                ...       ...          ...        ...         ...   \n",
              "7248  2011              89411    Diesel       Manual      First  20.54 kmpl   \n",
              "7249  2015              59000    Petrol    Automatic      First  17.21 kmpl   \n",
              "7250  2012              28000    Diesel       Manual      First  23.08 kmpl   \n",
              "7251  2013              52262    Petrol    Automatic      Third   17.2 kmpl   \n",
              "7252  2014              72443    Diesel    Automatic      First   10.0 kmpl   \n",
              "\n",
              "       Engine      Power  Seats  New_Price  Price  \n",
              "0      998 CC  58.16 bhp    5.0        NaN   1.75  \n",
              "1     1582 CC  126.2 bhp    5.0        NaN  12.50  \n",
              "2     1199 CC   88.7 bhp    5.0  8.61 Lakh   4.50  \n",
              "3     1248 CC  88.76 bhp    7.0        NaN   6.00  \n",
              "4     1968 CC  140.8 bhp    5.0        NaN  17.74  \n",
              "...       ...        ...    ...        ...    ...  \n",
              "7248  1598 CC  103.6 bhp    5.0        NaN    NaN  \n",
              "7249  1197 CC  103.6 bhp    5.0        NaN    NaN  \n",
              "7250  1461 CC   63.1 bhp    5.0        NaN    NaN  \n",
              "7251  1197 CC  103.6 bhp    5.0        NaN    NaN  \n",
              "7252  2148 CC    170 bhp    5.0        NaN    NaN  \n",
              "\n",
              "[7253 rows x 14 columns]"
            ],
            "text/html": [
              "\n",
              "  <div id=\"df-514800f3-f73d-46e1-93aa-9feb7ac13d8b\">\n",
              "    <div class=\"colab-df-container\">\n",
              "      <div>\n",
              "<style scoped>\n",
              "    .dataframe tbody tr th:only-of-type {\n",
              "        vertical-align: middle;\n",
              "    }\n",
              "\n",
              "    .dataframe tbody tr th {\n",
              "        vertical-align: top;\n",
              "    }\n",
              "\n",
              "    .dataframe thead th {\n",
              "        text-align: right;\n",
              "    }\n",
              "</style>\n",
              "<table border=\"1\" class=\"dataframe\">\n",
              "  <thead>\n",
              "    <tr style=\"text-align: right;\">\n",
              "      <th></th>\n",
              "      <th>S.No.</th>\n",
              "      <th>Name</th>\n",
              "      <th>Location</th>\n",
              "      <th>Year</th>\n",
              "      <th>Kilometers_Driven</th>\n",
              "      <th>Fuel_Type</th>\n",
              "      <th>Transmission</th>\n",
              "      <th>Owner_Type</th>\n",
              "      <th>Mileage</th>\n",
              "      <th>Engine</th>\n",
              "      <th>Power</th>\n",
              "      <th>Seats</th>\n",
              "      <th>New_Price</th>\n",
              "      <th>Price</th>\n",
              "    </tr>\n",
              "  </thead>\n",
              "  <tbody>\n",
              "    <tr>\n",
              "      <th>0</th>\n",
              "      <td>0</td>\n",
              "      <td>Maruti Wagon R LXI CNG</td>\n",
              "      <td>Mumbai</td>\n",
              "      <td>2010</td>\n",
              "      <td>72000</td>\n",
              "      <td>CNG</td>\n",
              "      <td>Manual</td>\n",
              "      <td>First</td>\n",
              "      <td>26.6 km/kg</td>\n",
              "      <td>998 CC</td>\n",
              "      <td>58.16 bhp</td>\n",
              "      <td>5.0</td>\n",
              "      <td>NaN</td>\n",
              "      <td>1.75</td>\n",
              "    </tr>\n",
              "    <tr>\n",
              "      <th>1</th>\n",
              "      <td>1</td>\n",
              "      <td>Hyundai Creta 1.6 CRDi SX Option</td>\n",
              "      <td>Pune</td>\n",
              "      <td>2015</td>\n",
              "      <td>41000</td>\n",
              "      <td>Diesel</td>\n",
              "      <td>Manual</td>\n",
              "      <td>First</td>\n",
              "      <td>19.67 kmpl</td>\n",
              "      <td>1582 CC</td>\n",
              "      <td>126.2 bhp</td>\n",
              "      <td>5.0</td>\n",
              "      <td>NaN</td>\n",
              "      <td>12.50</td>\n",
              "    </tr>\n",
              "    <tr>\n",
              "      <th>2</th>\n",
              "      <td>2</td>\n",
              "      <td>Honda Jazz V</td>\n",
              "      <td>Chennai</td>\n",
              "      <td>2011</td>\n",
              "      <td>46000</td>\n",
              "      <td>Petrol</td>\n",
              "      <td>Manual</td>\n",
              "      <td>First</td>\n",
              "      <td>18.2 kmpl</td>\n",
              "      <td>1199 CC</td>\n",
              "      <td>88.7 bhp</td>\n",
              "      <td>5.0</td>\n",
              "      <td>8.61 Lakh</td>\n",
              "      <td>4.50</td>\n",
              "    </tr>\n",
              "    <tr>\n",
              "      <th>3</th>\n",
              "      <td>3</td>\n",
              "      <td>Maruti Ertiga VDI</td>\n",
              "      <td>Chennai</td>\n",
              "      <td>2012</td>\n",
              "      <td>87000</td>\n",
              "      <td>Diesel</td>\n",
              "      <td>Manual</td>\n",
              "      <td>First</td>\n",
              "      <td>20.77 kmpl</td>\n",
              "      <td>1248 CC</td>\n",
              "      <td>88.76 bhp</td>\n",
              "      <td>7.0</td>\n",
              "      <td>NaN</td>\n",
              "      <td>6.00</td>\n",
              "    </tr>\n",
              "    <tr>\n",
              "      <th>4</th>\n",
              "      <td>4</td>\n",
              "      <td>Audi A4 New 2.0 TDI Multitronic</td>\n",
              "      <td>Coimbatore</td>\n",
              "      <td>2013</td>\n",
              "      <td>40670</td>\n",
              "      <td>Diesel</td>\n",
              "      <td>Automatic</td>\n",
              "      <td>Second</td>\n",
              "      <td>15.2 kmpl</td>\n",
              "      <td>1968 CC</td>\n",
              "      <td>140.8 bhp</td>\n",
              "      <td>5.0</td>\n",
              "      <td>NaN</td>\n",
              "      <td>17.74</td>\n",
              "    </tr>\n",
              "    <tr>\n",
              "      <th>...</th>\n",
              "      <td>...</td>\n",
              "      <td>...</td>\n",
              "      <td>...</td>\n",
              "      <td>...</td>\n",
              "      <td>...</td>\n",
              "      <td>...</td>\n",
              "      <td>...</td>\n",
              "      <td>...</td>\n",
              "      <td>...</td>\n",
              "      <td>...</td>\n",
              "      <td>...</td>\n",
              "      <td>...</td>\n",
              "      <td>...</td>\n",
              "      <td>...</td>\n",
              "    </tr>\n",
              "    <tr>\n",
              "      <th>7248</th>\n",
              "      <td>7248</td>\n",
              "      <td>Volkswagen Vento Diesel Trendline</td>\n",
              "      <td>Hyderabad</td>\n",
              "      <td>2011</td>\n",
              "      <td>89411</td>\n",
              "      <td>Diesel</td>\n",
              "      <td>Manual</td>\n",
              "      <td>First</td>\n",
              "      <td>20.54 kmpl</td>\n",
              "      <td>1598 CC</td>\n",
              "      <td>103.6 bhp</td>\n",
              "      <td>5.0</td>\n",
              "      <td>NaN</td>\n",
              "      <td>NaN</td>\n",
              "    </tr>\n",
              "    <tr>\n",
              "      <th>7249</th>\n",
              "      <td>7249</td>\n",
              "      <td>Volkswagen Polo GT TSI</td>\n",
              "      <td>Mumbai</td>\n",
              "      <td>2015</td>\n",
              "      <td>59000</td>\n",
              "      <td>Petrol</td>\n",
              "      <td>Automatic</td>\n",
              "      <td>First</td>\n",
              "      <td>17.21 kmpl</td>\n",
              "      <td>1197 CC</td>\n",
              "      <td>103.6 bhp</td>\n",
              "      <td>5.0</td>\n",
              "      <td>NaN</td>\n",
              "      <td>NaN</td>\n",
              "    </tr>\n",
              "    <tr>\n",
              "      <th>7250</th>\n",
              "      <td>7250</td>\n",
              "      <td>Nissan Micra Diesel XV</td>\n",
              "      <td>Kolkata</td>\n",
              "      <td>2012</td>\n",
              "      <td>28000</td>\n",
              "      <td>Diesel</td>\n",
              "      <td>Manual</td>\n",
              "      <td>First</td>\n",
              "      <td>23.08 kmpl</td>\n",
              "      <td>1461 CC</td>\n",
              "      <td>63.1 bhp</td>\n",
              "      <td>5.0</td>\n",
              "      <td>NaN</td>\n",
              "      <td>NaN</td>\n",
              "    </tr>\n",
              "    <tr>\n",
              "      <th>7251</th>\n",
              "      <td>7251</td>\n",
              "      <td>Volkswagen Polo GT TSI</td>\n",
              "      <td>Pune</td>\n",
              "      <td>2013</td>\n",
              "      <td>52262</td>\n",
              "      <td>Petrol</td>\n",
              "      <td>Automatic</td>\n",
              "      <td>Third</td>\n",
              "      <td>17.2 kmpl</td>\n",
              "      <td>1197 CC</td>\n",
              "      <td>103.6 bhp</td>\n",
              "      <td>5.0</td>\n",
              "      <td>NaN</td>\n",
              "      <td>NaN</td>\n",
              "    </tr>\n",
              "    <tr>\n",
              "      <th>7252</th>\n",
              "      <td>7252</td>\n",
              "      <td>Mercedes-Benz E-Class 2009-2013 E 220 CDI Avan...</td>\n",
              "      <td>Kochi</td>\n",
              "      <td>2014</td>\n",
              "      <td>72443</td>\n",
              "      <td>Diesel</td>\n",
              "      <td>Automatic</td>\n",
              "      <td>First</td>\n",
              "      <td>10.0 kmpl</td>\n",
              "      <td>2148 CC</td>\n",
              "      <td>170 bhp</td>\n",
              "      <td>5.0</td>\n",
              "      <td>NaN</td>\n",
              "      <td>NaN</td>\n",
              "    </tr>\n",
              "  </tbody>\n",
              "</table>\n",
              "<p>7253 rows × 14 columns</p>\n",
              "</div>\n",
              "      <button class=\"colab-df-convert\" onclick=\"convertToInteractive('df-514800f3-f73d-46e1-93aa-9feb7ac13d8b')\"\n",
              "              title=\"Convert this dataframe to an interactive table.\"\n",
              "              style=\"display:none;\">\n",
              "        \n",
              "  <svg xmlns=\"http://www.w3.org/2000/svg\" height=\"24px\"viewBox=\"0 0 24 24\"\n",
              "       width=\"24px\">\n",
              "    <path d=\"M0 0h24v24H0V0z\" fill=\"none\"/>\n",
              "    <path d=\"M18.56 5.44l.94 2.06.94-2.06 2.06-.94-2.06-.94-.94-2.06-.94 2.06-2.06.94zm-11 1L8.5 8.5l.94-2.06 2.06-.94-2.06-.94L8.5 2.5l-.94 2.06-2.06.94zm10 10l.94 2.06.94-2.06 2.06-.94-2.06-.94-.94-2.06-.94 2.06-2.06.94z\"/><path d=\"M17.41 7.96l-1.37-1.37c-.4-.4-.92-.59-1.43-.59-.52 0-1.04.2-1.43.59L10.3 9.45l-7.72 7.72c-.78.78-.78 2.05 0 2.83L4 21.41c.39.39.9.59 1.41.59.51 0 1.02-.2 1.41-.59l7.78-7.78 2.81-2.81c.8-.78.8-2.07 0-2.86zM5.41 20L4 18.59l7.72-7.72 1.47 1.35L5.41 20z\"/>\n",
              "  </svg>\n",
              "      </button>\n",
              "      \n",
              "  <style>\n",
              "    .colab-df-container {\n",
              "      display:flex;\n",
              "      flex-wrap:wrap;\n",
              "      gap: 12px;\n",
              "    }\n",
              "\n",
              "    .colab-df-convert {\n",
              "      background-color: #E8F0FE;\n",
              "      border: none;\n",
              "      border-radius: 50%;\n",
              "      cursor: pointer;\n",
              "      display: none;\n",
              "      fill: #1967D2;\n",
              "      height: 32px;\n",
              "      padding: 0 0 0 0;\n",
              "      width: 32px;\n",
              "    }\n",
              "\n",
              "    .colab-df-convert:hover {\n",
              "      background-color: #E2EBFA;\n",
              "      box-shadow: 0px 1px 2px rgba(60, 64, 67, 0.3), 0px 1px 3px 1px rgba(60, 64, 67, 0.15);\n",
              "      fill: #174EA6;\n",
              "    }\n",
              "\n",
              "    [theme=dark] .colab-df-convert {\n",
              "      background-color: #3B4455;\n",
              "      fill: #D2E3FC;\n",
              "    }\n",
              "\n",
              "    [theme=dark] .colab-df-convert:hover {\n",
              "      background-color: #434B5C;\n",
              "      box-shadow: 0px 1px 3px 1px rgba(0, 0, 0, 0.15);\n",
              "      filter: drop-shadow(0px 1px 2px rgba(0, 0, 0, 0.3));\n",
              "      fill: #FFFFFF;\n",
              "    }\n",
              "  </style>\n",
              "\n",
              "      <script>\n",
              "        const buttonEl =\n",
              "          document.querySelector('#df-514800f3-f73d-46e1-93aa-9feb7ac13d8b button.colab-df-convert');\n",
              "        buttonEl.style.display =\n",
              "          google.colab.kernel.accessAllowed ? 'block' : 'none';\n",
              "\n",
              "        async function convertToInteractive(key) {\n",
              "          const element = document.querySelector('#df-514800f3-f73d-46e1-93aa-9feb7ac13d8b');\n",
              "          const dataTable =\n",
              "            await google.colab.kernel.invokeFunction('convertToInteractive',\n",
              "                                                     [key], {});\n",
              "          if (!dataTable) return;\n",
              "\n",
              "          const docLinkHtml = 'Like what you see? Visit the ' +\n",
              "            '<a target=\"_blank\" href=https://colab.research.google.com/notebooks/data_table.ipynb>data table notebook</a>'\n",
              "            + ' to learn more about interactive tables.';\n",
              "          element.innerHTML = '';\n",
              "          dataTable['output_type'] = 'display_data';\n",
              "          await google.colab.output.renderOutput(dataTable, element);\n",
              "          const docLink = document.createElement('div');\n",
              "          docLink.innerHTML = docLinkHtml;\n",
              "          element.appendChild(docLink);\n",
              "        }\n",
              "      </script>\n",
              "    </div>\n",
              "  </div>\n",
              "  "
            ]
          },
          "metadata": {},
          "execution_count": 2
        }
      ]
    },
    {
      "cell_type": "markdown",
      "source": [
        "## **Check first 5 and last five rows of the data**"
      ],
      "metadata": {
        "id": "p3eaRRJ9Dc50"
      }
    },
    {
      "cell_type": "code",
      "source": [
        "df.head()"
      ],
      "metadata": {
        "colab": {
          "base_uri": "https://localhost:8080/",
          "height": 444
        },
        "id": "LnfRp_DGDa7u",
        "outputId": "a40b727d-ce6d-4361-a892-e7f095da588a"
      },
      "execution_count": null,
      "outputs": [
        {
          "output_type": "execute_result",
          "data": {
            "text/plain": [
              "   S.No.                              Name    Location  Year  \\\n",
              "0      0            Maruti Wagon R LXI CNG      Mumbai  2010   \n",
              "1      1  Hyundai Creta 1.6 CRDi SX Option        Pune  2015   \n",
              "2      2                      Honda Jazz V     Chennai  2011   \n",
              "3      3                 Maruti Ertiga VDI     Chennai  2012   \n",
              "4      4   Audi A4 New 2.0 TDI Multitronic  Coimbatore  2013   \n",
              "\n",
              "   Kilometers_Driven Fuel_Type Transmission Owner_Type     Mileage   Engine  \\\n",
              "0              72000       CNG       Manual      First  26.6 km/kg   998 CC   \n",
              "1              41000    Diesel       Manual      First  19.67 kmpl  1582 CC   \n",
              "2              46000    Petrol       Manual      First   18.2 kmpl  1199 CC   \n",
              "3              87000    Diesel       Manual      First  20.77 kmpl  1248 CC   \n",
              "4              40670    Diesel    Automatic     Second   15.2 kmpl  1968 CC   \n",
              "\n",
              "       Power  Seats  New_Price  Price  \n",
              "0  58.16 bhp    5.0        NaN   1.75  \n",
              "1  126.2 bhp    5.0        NaN  12.50  \n",
              "2   88.7 bhp    5.0  8.61 Lakh   4.50  \n",
              "3  88.76 bhp    7.0        NaN   6.00  \n",
              "4  140.8 bhp    5.0        NaN  17.74  "
            ],
            "text/html": [
              "\n",
              "  <div id=\"df-439bf818-bbff-40d1-98f5-c4f2209441a0\">\n",
              "    <div class=\"colab-df-container\">\n",
              "      <div>\n",
              "<style scoped>\n",
              "    .dataframe tbody tr th:only-of-type {\n",
              "        vertical-align: middle;\n",
              "    }\n",
              "\n",
              "    .dataframe tbody tr th {\n",
              "        vertical-align: top;\n",
              "    }\n",
              "\n",
              "    .dataframe thead th {\n",
              "        text-align: right;\n",
              "    }\n",
              "</style>\n",
              "<table border=\"1\" class=\"dataframe\">\n",
              "  <thead>\n",
              "    <tr style=\"text-align: right;\">\n",
              "      <th></th>\n",
              "      <th>S.No.</th>\n",
              "      <th>Name</th>\n",
              "      <th>Location</th>\n",
              "      <th>Year</th>\n",
              "      <th>Kilometers_Driven</th>\n",
              "      <th>Fuel_Type</th>\n",
              "      <th>Transmission</th>\n",
              "      <th>Owner_Type</th>\n",
              "      <th>Mileage</th>\n",
              "      <th>Engine</th>\n",
              "      <th>Power</th>\n",
              "      <th>Seats</th>\n",
              "      <th>New_Price</th>\n",
              "      <th>Price</th>\n",
              "    </tr>\n",
              "  </thead>\n",
              "  <tbody>\n",
              "    <tr>\n",
              "      <th>0</th>\n",
              "      <td>0</td>\n",
              "      <td>Maruti Wagon R LXI CNG</td>\n",
              "      <td>Mumbai</td>\n",
              "      <td>2010</td>\n",
              "      <td>72000</td>\n",
              "      <td>CNG</td>\n",
              "      <td>Manual</td>\n",
              "      <td>First</td>\n",
              "      <td>26.6 km/kg</td>\n",
              "      <td>998 CC</td>\n",
              "      <td>58.16 bhp</td>\n",
              "      <td>5.0</td>\n",
              "      <td>NaN</td>\n",
              "      <td>1.75</td>\n",
              "    </tr>\n",
              "    <tr>\n",
              "      <th>1</th>\n",
              "      <td>1</td>\n",
              "      <td>Hyundai Creta 1.6 CRDi SX Option</td>\n",
              "      <td>Pune</td>\n",
              "      <td>2015</td>\n",
              "      <td>41000</td>\n",
              "      <td>Diesel</td>\n",
              "      <td>Manual</td>\n",
              "      <td>First</td>\n",
              "      <td>19.67 kmpl</td>\n",
              "      <td>1582 CC</td>\n",
              "      <td>126.2 bhp</td>\n",
              "      <td>5.0</td>\n",
              "      <td>NaN</td>\n",
              "      <td>12.50</td>\n",
              "    </tr>\n",
              "    <tr>\n",
              "      <th>2</th>\n",
              "      <td>2</td>\n",
              "      <td>Honda Jazz V</td>\n",
              "      <td>Chennai</td>\n",
              "      <td>2011</td>\n",
              "      <td>46000</td>\n",
              "      <td>Petrol</td>\n",
              "      <td>Manual</td>\n",
              "      <td>First</td>\n",
              "      <td>18.2 kmpl</td>\n",
              "      <td>1199 CC</td>\n",
              "      <td>88.7 bhp</td>\n",
              "      <td>5.0</td>\n",
              "      <td>8.61 Lakh</td>\n",
              "      <td>4.50</td>\n",
              "    </tr>\n",
              "    <tr>\n",
              "      <th>3</th>\n",
              "      <td>3</td>\n",
              "      <td>Maruti Ertiga VDI</td>\n",
              "      <td>Chennai</td>\n",
              "      <td>2012</td>\n",
              "      <td>87000</td>\n",
              "      <td>Diesel</td>\n",
              "      <td>Manual</td>\n",
              "      <td>First</td>\n",
              "      <td>20.77 kmpl</td>\n",
              "      <td>1248 CC</td>\n",
              "      <td>88.76 bhp</td>\n",
              "      <td>7.0</td>\n",
              "      <td>NaN</td>\n",
              "      <td>6.00</td>\n",
              "    </tr>\n",
              "    <tr>\n",
              "      <th>4</th>\n",
              "      <td>4</td>\n",
              "      <td>Audi A4 New 2.0 TDI Multitronic</td>\n",
              "      <td>Coimbatore</td>\n",
              "      <td>2013</td>\n",
              "      <td>40670</td>\n",
              "      <td>Diesel</td>\n",
              "      <td>Automatic</td>\n",
              "      <td>Second</td>\n",
              "      <td>15.2 kmpl</td>\n",
              "      <td>1968 CC</td>\n",
              "      <td>140.8 bhp</td>\n",
              "      <td>5.0</td>\n",
              "      <td>NaN</td>\n",
              "      <td>17.74</td>\n",
              "    </tr>\n",
              "  </tbody>\n",
              "</table>\n",
              "</div>\n",
              "      <button class=\"colab-df-convert\" onclick=\"convertToInteractive('df-439bf818-bbff-40d1-98f5-c4f2209441a0')\"\n",
              "              title=\"Convert this dataframe to an interactive table.\"\n",
              "              style=\"display:none;\">\n",
              "        \n",
              "  <svg xmlns=\"http://www.w3.org/2000/svg\" height=\"24px\"viewBox=\"0 0 24 24\"\n",
              "       width=\"24px\">\n",
              "    <path d=\"M0 0h24v24H0V0z\" fill=\"none\"/>\n",
              "    <path d=\"M18.56 5.44l.94 2.06.94-2.06 2.06-.94-2.06-.94-.94-2.06-.94 2.06-2.06.94zm-11 1L8.5 8.5l.94-2.06 2.06-.94-2.06-.94L8.5 2.5l-.94 2.06-2.06.94zm10 10l.94 2.06.94-2.06 2.06-.94-2.06-.94-.94-2.06-.94 2.06-2.06.94z\"/><path d=\"M17.41 7.96l-1.37-1.37c-.4-.4-.92-.59-1.43-.59-.52 0-1.04.2-1.43.59L10.3 9.45l-7.72 7.72c-.78.78-.78 2.05 0 2.83L4 21.41c.39.39.9.59 1.41.59.51 0 1.02-.2 1.41-.59l7.78-7.78 2.81-2.81c.8-.78.8-2.07 0-2.86zM5.41 20L4 18.59l7.72-7.72 1.47 1.35L5.41 20z\"/>\n",
              "  </svg>\n",
              "      </button>\n",
              "      \n",
              "  <style>\n",
              "    .colab-df-container {\n",
              "      display:flex;\n",
              "      flex-wrap:wrap;\n",
              "      gap: 12px;\n",
              "    }\n",
              "\n",
              "    .colab-df-convert {\n",
              "      background-color: #E8F0FE;\n",
              "      border: none;\n",
              "      border-radius: 50%;\n",
              "      cursor: pointer;\n",
              "      display: none;\n",
              "      fill: #1967D2;\n",
              "      height: 32px;\n",
              "      padding: 0 0 0 0;\n",
              "      width: 32px;\n",
              "    }\n",
              "\n",
              "    .colab-df-convert:hover {\n",
              "      background-color: #E2EBFA;\n",
              "      box-shadow: 0px 1px 2px rgba(60, 64, 67, 0.3), 0px 1px 3px 1px rgba(60, 64, 67, 0.15);\n",
              "      fill: #174EA6;\n",
              "    }\n",
              "\n",
              "    [theme=dark] .colab-df-convert {\n",
              "      background-color: #3B4455;\n",
              "      fill: #D2E3FC;\n",
              "    }\n",
              "\n",
              "    [theme=dark] .colab-df-convert:hover {\n",
              "      background-color: #434B5C;\n",
              "      box-shadow: 0px 1px 3px 1px rgba(0, 0, 0, 0.15);\n",
              "      filter: drop-shadow(0px 1px 2px rgba(0, 0, 0, 0.3));\n",
              "      fill: #FFFFFF;\n",
              "    }\n",
              "  </style>\n",
              "\n",
              "      <script>\n",
              "        const buttonEl =\n",
              "          document.querySelector('#df-439bf818-bbff-40d1-98f5-c4f2209441a0 button.colab-df-convert');\n",
              "        buttonEl.style.display =\n",
              "          google.colab.kernel.accessAllowed ? 'block' : 'none';\n",
              "\n",
              "        async function convertToInteractive(key) {\n",
              "          const element = document.querySelector('#df-439bf818-bbff-40d1-98f5-c4f2209441a0');\n",
              "          const dataTable =\n",
              "            await google.colab.kernel.invokeFunction('convertToInteractive',\n",
              "                                                     [key], {});\n",
              "          if (!dataTable) return;\n",
              "\n",
              "          const docLinkHtml = 'Like what you see? Visit the ' +\n",
              "            '<a target=\"_blank\" href=https://colab.research.google.com/notebooks/data_table.ipynb>data table notebook</a>'\n",
              "            + ' to learn more about interactive tables.';\n",
              "          element.innerHTML = '';\n",
              "          dataTable['output_type'] = 'display_data';\n",
              "          await google.colab.output.renderOutput(dataTable, element);\n",
              "          const docLink = document.createElement('div');\n",
              "          docLink.innerHTML = docLinkHtml;\n",
              "          element.appendChild(docLink);\n",
              "        }\n",
              "      </script>\n",
              "    </div>\n",
              "  </div>\n",
              "  "
            ]
          },
          "metadata": {},
          "execution_count": 3
        }
      ]
    },
    {
      "cell_type": "code",
      "source": [
        "df.tail()"
      ],
      "metadata": {
        "colab": {
          "base_uri": "https://localhost:8080/",
          "height": 496
        },
        "id": "5nFiQwUtDlBv",
        "outputId": "8606c19e-eb18-484b-ed63-13a64edb1d2f"
      },
      "execution_count": null,
      "outputs": [
        {
          "output_type": "execute_result",
          "data": {
            "text/plain": [
              "      S.No.                                               Name   Location  \\\n",
              "7248   7248                  Volkswagen Vento Diesel Trendline  Hyderabad   \n",
              "7249   7249                             Volkswagen Polo GT TSI     Mumbai   \n",
              "7250   7250                             Nissan Micra Diesel XV    Kolkata   \n",
              "7251   7251                             Volkswagen Polo GT TSI       Pune   \n",
              "7252   7252  Mercedes-Benz E-Class 2009-2013 E 220 CDI Avan...      Kochi   \n",
              "\n",
              "      Year  Kilometers_Driven Fuel_Type Transmission Owner_Type     Mileage  \\\n",
              "7248  2011              89411    Diesel       Manual      First  20.54 kmpl   \n",
              "7249  2015              59000    Petrol    Automatic      First  17.21 kmpl   \n",
              "7250  2012              28000    Diesel       Manual      First  23.08 kmpl   \n",
              "7251  2013              52262    Petrol    Automatic      Third   17.2 kmpl   \n",
              "7252  2014              72443    Diesel    Automatic      First   10.0 kmpl   \n",
              "\n",
              "       Engine      Power  Seats New_Price  Price  \n",
              "7248  1598 CC  103.6 bhp    5.0       NaN    NaN  \n",
              "7249  1197 CC  103.6 bhp    5.0       NaN    NaN  \n",
              "7250  1461 CC   63.1 bhp    5.0       NaN    NaN  \n",
              "7251  1197 CC  103.6 bhp    5.0       NaN    NaN  \n",
              "7252  2148 CC    170 bhp    5.0       NaN    NaN  "
            ],
            "text/html": [
              "\n",
              "  <div id=\"df-d6ee85cd-9db8-4328-9540-224e0f332816\">\n",
              "    <div class=\"colab-df-container\">\n",
              "      <div>\n",
              "<style scoped>\n",
              "    .dataframe tbody tr th:only-of-type {\n",
              "        vertical-align: middle;\n",
              "    }\n",
              "\n",
              "    .dataframe tbody tr th {\n",
              "        vertical-align: top;\n",
              "    }\n",
              "\n",
              "    .dataframe thead th {\n",
              "        text-align: right;\n",
              "    }\n",
              "</style>\n",
              "<table border=\"1\" class=\"dataframe\">\n",
              "  <thead>\n",
              "    <tr style=\"text-align: right;\">\n",
              "      <th></th>\n",
              "      <th>S.No.</th>\n",
              "      <th>Name</th>\n",
              "      <th>Location</th>\n",
              "      <th>Year</th>\n",
              "      <th>Kilometers_Driven</th>\n",
              "      <th>Fuel_Type</th>\n",
              "      <th>Transmission</th>\n",
              "      <th>Owner_Type</th>\n",
              "      <th>Mileage</th>\n",
              "      <th>Engine</th>\n",
              "      <th>Power</th>\n",
              "      <th>Seats</th>\n",
              "      <th>New_Price</th>\n",
              "      <th>Price</th>\n",
              "    </tr>\n",
              "  </thead>\n",
              "  <tbody>\n",
              "    <tr>\n",
              "      <th>7248</th>\n",
              "      <td>7248</td>\n",
              "      <td>Volkswagen Vento Diesel Trendline</td>\n",
              "      <td>Hyderabad</td>\n",
              "      <td>2011</td>\n",
              "      <td>89411</td>\n",
              "      <td>Diesel</td>\n",
              "      <td>Manual</td>\n",
              "      <td>First</td>\n",
              "      <td>20.54 kmpl</td>\n",
              "      <td>1598 CC</td>\n",
              "      <td>103.6 bhp</td>\n",
              "      <td>5.0</td>\n",
              "      <td>NaN</td>\n",
              "      <td>NaN</td>\n",
              "    </tr>\n",
              "    <tr>\n",
              "      <th>7249</th>\n",
              "      <td>7249</td>\n",
              "      <td>Volkswagen Polo GT TSI</td>\n",
              "      <td>Mumbai</td>\n",
              "      <td>2015</td>\n",
              "      <td>59000</td>\n",
              "      <td>Petrol</td>\n",
              "      <td>Automatic</td>\n",
              "      <td>First</td>\n",
              "      <td>17.21 kmpl</td>\n",
              "      <td>1197 CC</td>\n",
              "      <td>103.6 bhp</td>\n",
              "      <td>5.0</td>\n",
              "      <td>NaN</td>\n",
              "      <td>NaN</td>\n",
              "    </tr>\n",
              "    <tr>\n",
              "      <th>7250</th>\n",
              "      <td>7250</td>\n",
              "      <td>Nissan Micra Diesel XV</td>\n",
              "      <td>Kolkata</td>\n",
              "      <td>2012</td>\n",
              "      <td>28000</td>\n",
              "      <td>Diesel</td>\n",
              "      <td>Manual</td>\n",
              "      <td>First</td>\n",
              "      <td>23.08 kmpl</td>\n",
              "      <td>1461 CC</td>\n",
              "      <td>63.1 bhp</td>\n",
              "      <td>5.0</td>\n",
              "      <td>NaN</td>\n",
              "      <td>NaN</td>\n",
              "    </tr>\n",
              "    <tr>\n",
              "      <th>7251</th>\n",
              "      <td>7251</td>\n",
              "      <td>Volkswagen Polo GT TSI</td>\n",
              "      <td>Pune</td>\n",
              "      <td>2013</td>\n",
              "      <td>52262</td>\n",
              "      <td>Petrol</td>\n",
              "      <td>Automatic</td>\n",
              "      <td>Third</td>\n",
              "      <td>17.2 kmpl</td>\n",
              "      <td>1197 CC</td>\n",
              "      <td>103.6 bhp</td>\n",
              "      <td>5.0</td>\n",
              "      <td>NaN</td>\n",
              "      <td>NaN</td>\n",
              "    </tr>\n",
              "    <tr>\n",
              "      <th>7252</th>\n",
              "      <td>7252</td>\n",
              "      <td>Mercedes-Benz E-Class 2009-2013 E 220 CDI Avan...</td>\n",
              "      <td>Kochi</td>\n",
              "      <td>2014</td>\n",
              "      <td>72443</td>\n",
              "      <td>Diesel</td>\n",
              "      <td>Automatic</td>\n",
              "      <td>First</td>\n",
              "      <td>10.0 kmpl</td>\n",
              "      <td>2148 CC</td>\n",
              "      <td>170 bhp</td>\n",
              "      <td>5.0</td>\n",
              "      <td>NaN</td>\n",
              "      <td>NaN</td>\n",
              "    </tr>\n",
              "  </tbody>\n",
              "</table>\n",
              "</div>\n",
              "      <button class=\"colab-df-convert\" onclick=\"convertToInteractive('df-d6ee85cd-9db8-4328-9540-224e0f332816')\"\n",
              "              title=\"Convert this dataframe to an interactive table.\"\n",
              "              style=\"display:none;\">\n",
              "        \n",
              "  <svg xmlns=\"http://www.w3.org/2000/svg\" height=\"24px\"viewBox=\"0 0 24 24\"\n",
              "       width=\"24px\">\n",
              "    <path d=\"M0 0h24v24H0V0z\" fill=\"none\"/>\n",
              "    <path d=\"M18.56 5.44l.94 2.06.94-2.06 2.06-.94-2.06-.94-.94-2.06-.94 2.06-2.06.94zm-11 1L8.5 8.5l.94-2.06 2.06-.94-2.06-.94L8.5 2.5l-.94 2.06-2.06.94zm10 10l.94 2.06.94-2.06 2.06-.94-2.06-.94-.94-2.06-.94 2.06-2.06.94z\"/><path d=\"M17.41 7.96l-1.37-1.37c-.4-.4-.92-.59-1.43-.59-.52 0-1.04.2-1.43.59L10.3 9.45l-7.72 7.72c-.78.78-.78 2.05 0 2.83L4 21.41c.39.39.9.59 1.41.59.51 0 1.02-.2 1.41-.59l7.78-7.78 2.81-2.81c.8-.78.8-2.07 0-2.86zM5.41 20L4 18.59l7.72-7.72 1.47 1.35L5.41 20z\"/>\n",
              "  </svg>\n",
              "      </button>\n",
              "      \n",
              "  <style>\n",
              "    .colab-df-container {\n",
              "      display:flex;\n",
              "      flex-wrap:wrap;\n",
              "      gap: 12px;\n",
              "    }\n",
              "\n",
              "    .colab-df-convert {\n",
              "      background-color: #E8F0FE;\n",
              "      border: none;\n",
              "      border-radius: 50%;\n",
              "      cursor: pointer;\n",
              "      display: none;\n",
              "      fill: #1967D2;\n",
              "      height: 32px;\n",
              "      padding: 0 0 0 0;\n",
              "      width: 32px;\n",
              "    }\n",
              "\n",
              "    .colab-df-convert:hover {\n",
              "      background-color: #E2EBFA;\n",
              "      box-shadow: 0px 1px 2px rgba(60, 64, 67, 0.3), 0px 1px 3px 1px rgba(60, 64, 67, 0.15);\n",
              "      fill: #174EA6;\n",
              "    }\n",
              "\n",
              "    [theme=dark] .colab-df-convert {\n",
              "      background-color: #3B4455;\n",
              "      fill: #D2E3FC;\n",
              "    }\n",
              "\n",
              "    [theme=dark] .colab-df-convert:hover {\n",
              "      background-color: #434B5C;\n",
              "      box-shadow: 0px 1px 3px 1px rgba(0, 0, 0, 0.15);\n",
              "      filter: drop-shadow(0px 1px 2px rgba(0, 0, 0, 0.3));\n",
              "      fill: #FFFFFF;\n",
              "    }\n",
              "  </style>\n",
              "\n",
              "      <script>\n",
              "        const buttonEl =\n",
              "          document.querySelector('#df-d6ee85cd-9db8-4328-9540-224e0f332816 button.colab-df-convert');\n",
              "        buttonEl.style.display =\n",
              "          google.colab.kernel.accessAllowed ? 'block' : 'none';\n",
              "\n",
              "        async function convertToInteractive(key) {\n",
              "          const element = document.querySelector('#df-d6ee85cd-9db8-4328-9540-224e0f332816');\n",
              "          const dataTable =\n",
              "            await google.colab.kernel.invokeFunction('convertToInteractive',\n",
              "                                                     [key], {});\n",
              "          if (!dataTable) return;\n",
              "\n",
              "          const docLinkHtml = 'Like what you see? Visit the ' +\n",
              "            '<a target=\"_blank\" href=https://colab.research.google.com/notebooks/data_table.ipynb>data table notebook</a>'\n",
              "            + ' to learn more about interactive tables.';\n",
              "          element.innerHTML = '';\n",
              "          dataTable['output_type'] = 'display_data';\n",
              "          await google.colab.output.renderOutput(dataTable, element);\n",
              "          const docLink = document.createElement('div');\n",
              "          docLink.innerHTML = docLinkHtml;\n",
              "          element.appendChild(docLink);\n",
              "        }\n",
              "      </script>\n",
              "    </div>\n",
              "  </div>\n",
              "  "
            ]
          },
          "metadata": {},
          "execution_count": 4
        }
      ]
    },
    {
      "cell_type": "markdown",
      "source": [
        "## **Check data basic information**"
      ],
      "metadata": {
        "id": "Uo8XyvrTD3QJ"
      }
    },
    {
      "cell_type": "code",
      "source": [
        "df.info()"
      ],
      "metadata": {
        "colab": {
          "base_uri": "https://localhost:8080/"
        },
        "id": "UXHvLWBUDmwo",
        "outputId": "0b6548a5-0161-4e49-9c87-3f203e86a5ba"
      },
      "execution_count": null,
      "outputs": [
        {
          "output_type": "stream",
          "name": "stdout",
          "text": [
            "<class 'pandas.core.frame.DataFrame'>\n",
            "RangeIndex: 7253 entries, 0 to 7252\n",
            "Data columns (total 14 columns):\n",
            " #   Column             Non-Null Count  Dtype  \n",
            "---  ------             --------------  -----  \n",
            " 0   S.No.              7253 non-null   int64  \n",
            " 1   Name               7253 non-null   object \n",
            " 2   Location           7253 non-null   object \n",
            " 3   Year               7253 non-null   int64  \n",
            " 4   Kilometers_Driven  7253 non-null   int64  \n",
            " 5   Fuel_Type          7253 non-null   object \n",
            " 6   Transmission       7253 non-null   object \n",
            " 7   Owner_Type         7253 non-null   object \n",
            " 8   Mileage            7251 non-null   object \n",
            " 9   Engine             7207 non-null   object \n",
            " 10  Power              7207 non-null   object \n",
            " 11  Seats              7200 non-null   float64\n",
            " 12  New_Price          1006 non-null   object \n",
            " 13  Price              6019 non-null   float64\n",
            "dtypes: float64(2), int64(3), object(9)\n",
            "memory usage: 793.4+ KB\n"
          ]
        }
      ]
    },
    {
      "cell_type": "markdown",
      "source": [
        "##**Check for unique values to find duplicates**"
      ],
      "metadata": {
        "id": "-HFlFdlhEZlk"
      }
    },
    {
      "cell_type": "code",
      "source": [
        "df.nunique()"
      ],
      "metadata": {
        "colab": {
          "base_uri": "https://localhost:8080/"
        },
        "id": "TM7s-yowEAeW",
        "outputId": "e0d84a63-43f5-41c7-d9b5-a3edb6844bef"
      },
      "execution_count": null,
      "outputs": [
        {
          "output_type": "execute_result",
          "data": {
            "text/plain": [
              "S.No.                7253\n",
              "Name                 2041\n",
              "Location               11\n",
              "Year                   23\n",
              "Kilometers_Driven    3660\n",
              "Fuel_Type               5\n",
              "Transmission            2\n",
              "Owner_Type              4\n",
              "Mileage               450\n",
              "Engine                150\n",
              "Power                 386\n",
              "Seats                   9\n",
              "New_Price             625\n",
              "Price                1373\n",
              "dtype: int64"
            ]
          },
          "metadata": {},
          "execution_count": 6
        }
      ]
    },
    {
      "cell_type": "markdown",
      "source": [
        "##**Missing values in each columns**"
      ],
      "metadata": {
        "id": "iy8LgskYHvqX"
      }
    },
    {
      "cell_type": "code",
      "source": [
        "df.isnull().sum()"
      ],
      "metadata": {
        "colab": {
          "base_uri": "https://localhost:8080/"
        },
        "id": "dyvcb2ShEcRo",
        "outputId": "3178a55d-7192-4a01-e68e-4c310c697498"
      },
      "execution_count": null,
      "outputs": [
        {
          "output_type": "execute_result",
          "data": {
            "text/plain": [
              "S.No.                   0\n",
              "Name                    0\n",
              "Location                0\n",
              "Year                    0\n",
              "Kilometers_Driven       0\n",
              "Fuel_Type               0\n",
              "Transmission            0\n",
              "Owner_Type              0\n",
              "Mileage                 2\n",
              "Engine                 46\n",
              "Power                  46\n",
              "Seats                  53\n",
              "New_Price            6247\n",
              "Price                1234\n",
              "dtype: int64"
            ]
          },
          "metadata": {},
          "execution_count": 7
        }
      ]
    },
    {
      "cell_type": "code",
      "source": [],
      "metadata": {
        "id": "RcQ6IuKRH0Th"
      },
      "execution_count": null,
      "outputs": []
    },
    {
      "cell_type": "markdown",
      "source": [
        "##**Calculate the percentage of missing values in each column**"
      ],
      "metadata": {
        "id": "kS-MsvkiH--I"
      }
    },
    {
      "cell_type": "code",
      "source": [
        "(df.isnull().sum()/(len(df)))*100"
      ],
      "metadata": {
        "colab": {
          "base_uri": "https://localhost:8080/"
        },
        "id": "YAGWjq3zIAhp",
        "outputId": "312b99d5-53ca-4cd0-eb30-c0ac0ce3c4cd"
      },
      "execution_count": null,
      "outputs": [
        {
          "output_type": "execute_result",
          "data": {
            "text/plain": [
              "S.No.                 0.000000\n",
              "Name                  0.000000\n",
              "Location              0.000000\n",
              "Year                  0.000000\n",
              "Kilometers_Driven     0.000000\n",
              "Fuel_Type             0.000000\n",
              "Transmission          0.000000\n",
              "Owner_Type            0.000000\n",
              "Mileage               0.027575\n",
              "Engine                0.634220\n",
              "Power                 0.634220\n",
              "Seats                 0.730732\n",
              "New_Price            86.129877\n",
              "Price                17.013650\n",
              "dtype: float64"
            ]
          },
          "metadata": {},
          "execution_count": 8
        }
      ]
    },
    {
      "cell_type": "markdown",
      "source": [
        "##**Calculate the percentage of missing values in each column with respect to complete dataset**"
      ],
      "metadata": {
        "id": "MbtfO0BYIqXn"
      }
    },
    {
      "cell_type": "code",
      "source": [
        "(df.isnull().sum()/df.size)*100"
      ],
      "metadata": {
        "colab": {
          "base_uri": "https://localhost:8080/"
        },
        "id": "IDQ_iZQhIJ7B",
        "outputId": "947717d7-83c8-4a0b-dade-d0299269f8f2"
      },
      "execution_count": null,
      "outputs": [
        {
          "output_type": "execute_result",
          "data": {
            "text/plain": [
              "S.No.                0.000000\n",
              "Name                 0.000000\n",
              "Location             0.000000\n",
              "Year                 0.000000\n",
              "Kilometers_Driven    0.000000\n",
              "Fuel_Type            0.000000\n",
              "Transmission         0.000000\n",
              "Owner_Type           0.000000\n",
              "Mileage              0.001970\n",
              "Engine               0.045301\n",
              "Power                0.045301\n",
              "Seats                0.052195\n",
              "New_Price            6.152134\n",
              "Price                1.215261\n",
              "dtype: float64"
            ]
          },
          "metadata": {},
          "execution_count": 9
        }
      ]
    },
    {
      "cell_type": "markdown",
      "source": [
        "##**Remove S.No. column from data**"
      ],
      "metadata": {
        "id": "7aVreI8eJTYu"
      }
    },
    {
      "cell_type": "code",
      "source": [
        "df.columns"
      ],
      "metadata": {
        "colab": {
          "base_uri": "https://localhost:8080/"
        },
        "id": "PGQWlyt5JbOT",
        "outputId": "796c6362-dd15-4a02-805a-1e2775cad9b7"
      },
      "execution_count": null,
      "outputs": [
        {
          "output_type": "execute_result",
          "data": {
            "text/plain": [
              "Index(['S.No.', 'Name', 'Location', 'Year', 'Kilometers_Driven', 'Fuel_Type',\n",
              "       'Transmission', 'Owner_Type', 'Mileage', 'Engine', 'Power', 'Seats',\n",
              "       'New_Price', 'Price'],\n",
              "      dtype='object')"
            ]
          },
          "metadata": {},
          "execution_count": 10
        }
      ]
    },
    {
      "cell_type": "code",
      "source": [
        "df.drop(columns=['S.No.'], axis=1, inplace= True)\n",
        "df.info()"
      ],
      "metadata": {
        "colab": {
          "base_uri": "https://localhost:8080/"
        },
        "id": "hMLEcREDJWRn",
        "outputId": "e84759a7-5a61-4c54-d1f4-88aa52efb5b6"
      },
      "execution_count": null,
      "outputs": [
        {
          "output_type": "stream",
          "name": "stdout",
          "text": [
            "<class 'pandas.core.frame.DataFrame'>\n",
            "RangeIndex: 7253 entries, 0 to 7252\n",
            "Data columns (total 13 columns):\n",
            " #   Column             Non-Null Count  Dtype  \n",
            "---  ------             --------------  -----  \n",
            " 0   Name               7253 non-null   object \n",
            " 1   Location           7253 non-null   object \n",
            " 2   Year               7253 non-null   int64  \n",
            " 3   Kilometers_Driven  7253 non-null   int64  \n",
            " 4   Fuel_Type          7253 non-null   object \n",
            " 5   Transmission       7253 non-null   object \n",
            " 6   Owner_Type         7253 non-null   object \n",
            " 7   Mileage            7251 non-null   object \n",
            " 8   Engine             7207 non-null   object \n",
            " 9   Power              7207 non-null   object \n",
            " 10  Seats              7200 non-null   float64\n",
            " 11  New_Price          1006 non-null   object \n",
            " 12  Price              6019 non-null   float64\n",
            "dtypes: float64(2), int64(2), object(9)\n",
            "memory usage: 736.8+ KB\n"
          ]
        }
      ]
    },
    {
      "cell_type": "markdown",
      "source": [
        "## **Use selected columns**\n",
        "##['Name', 'Location', 'Year', 'Kilometers_Driven']"
      ],
      "metadata": {
        "id": "RAwebtly7g5t"
      }
    },
    {
      "cell_type": "code",
      "source": [
        "df.columns"
      ],
      "metadata": {
        "colab": {
          "base_uri": "https://localhost:8080/"
        },
        "id": "LOly8pt_oSNP",
        "outputId": "6febd3dc-ef27-4443-b6bd-fe5dd8b6a318"
      },
      "execution_count": null,
      "outputs": [
        {
          "output_type": "execute_result",
          "data": {
            "text/plain": [
              "Index(['Name', 'Location', 'Year', 'Kilometers_Driven', 'Fuel_Type',\n",
              "       'Transmission', 'Owner_Type', 'Mileage', 'Engine', 'Power', 'Seats',\n",
              "       'New_Price', 'Price'],\n",
              "      dtype='object')"
            ]
          },
          "metadata": {},
          "execution_count": 12
        }
      ]
    },
    {
      "cell_type": "code",
      "source": [
        "df_2= pd.read_csv(\"/content/drive/MyDrive/AIR/Study material/Lab/2. EDA/Dataset/cars_EDA_analysis.csv\", usecols=['Name', 'Location', 'Year', 'Kilometers_Driven'])\n",
        "df_2"
      ],
      "metadata": {
        "colab": {
          "base_uri": "https://localhost:8080/",
          "height": 485
        },
        "id": "Rxjy9P5jKggC",
        "outputId": "ae1f015f-493b-4176-821f-9320def83cb2"
      },
      "execution_count": null,
      "outputs": [
        {
          "output_type": "execute_result",
          "data": {
            "text/plain": [
              "                                                   Name    Location  Year  \\\n",
              "0                                Maruti Wagon R LXI CNG      Mumbai  2010   \n",
              "1                      Hyundai Creta 1.6 CRDi SX Option        Pune  2015   \n",
              "2                                          Honda Jazz V     Chennai  2011   \n",
              "3                                     Maruti Ertiga VDI     Chennai  2012   \n",
              "4                       Audi A4 New 2.0 TDI Multitronic  Coimbatore  2013   \n",
              "...                                                 ...         ...   ...   \n",
              "7248                  Volkswagen Vento Diesel Trendline   Hyderabad  2011   \n",
              "7249                             Volkswagen Polo GT TSI      Mumbai  2015   \n",
              "7250                             Nissan Micra Diesel XV     Kolkata  2012   \n",
              "7251                             Volkswagen Polo GT TSI        Pune  2013   \n",
              "7252  Mercedes-Benz E-Class 2009-2013 E 220 CDI Avan...       Kochi  2014   \n",
              "\n",
              "      Kilometers_Driven  \n",
              "0                 72000  \n",
              "1                 41000  \n",
              "2                 46000  \n",
              "3                 87000  \n",
              "4                 40670  \n",
              "...                 ...  \n",
              "7248              89411  \n",
              "7249              59000  \n",
              "7250              28000  \n",
              "7251              52262  \n",
              "7252              72443  \n",
              "\n",
              "[7253 rows x 4 columns]"
            ],
            "text/html": [
              "\n",
              "  <div id=\"df-1de3f258-d114-4c9d-a9a8-04b475d56e07\">\n",
              "    <div class=\"colab-df-container\">\n",
              "      <div>\n",
              "<style scoped>\n",
              "    .dataframe tbody tr th:only-of-type {\n",
              "        vertical-align: middle;\n",
              "    }\n",
              "\n",
              "    .dataframe tbody tr th {\n",
              "        vertical-align: top;\n",
              "    }\n",
              "\n",
              "    .dataframe thead th {\n",
              "        text-align: right;\n",
              "    }\n",
              "</style>\n",
              "<table border=\"1\" class=\"dataframe\">\n",
              "  <thead>\n",
              "    <tr style=\"text-align: right;\">\n",
              "      <th></th>\n",
              "      <th>Name</th>\n",
              "      <th>Location</th>\n",
              "      <th>Year</th>\n",
              "      <th>Kilometers_Driven</th>\n",
              "    </tr>\n",
              "  </thead>\n",
              "  <tbody>\n",
              "    <tr>\n",
              "      <th>0</th>\n",
              "      <td>Maruti Wagon R LXI CNG</td>\n",
              "      <td>Mumbai</td>\n",
              "      <td>2010</td>\n",
              "      <td>72000</td>\n",
              "    </tr>\n",
              "    <tr>\n",
              "      <th>1</th>\n",
              "      <td>Hyundai Creta 1.6 CRDi SX Option</td>\n",
              "      <td>Pune</td>\n",
              "      <td>2015</td>\n",
              "      <td>41000</td>\n",
              "    </tr>\n",
              "    <tr>\n",
              "      <th>2</th>\n",
              "      <td>Honda Jazz V</td>\n",
              "      <td>Chennai</td>\n",
              "      <td>2011</td>\n",
              "      <td>46000</td>\n",
              "    </tr>\n",
              "    <tr>\n",
              "      <th>3</th>\n",
              "      <td>Maruti Ertiga VDI</td>\n",
              "      <td>Chennai</td>\n",
              "      <td>2012</td>\n",
              "      <td>87000</td>\n",
              "    </tr>\n",
              "    <tr>\n",
              "      <th>4</th>\n",
              "      <td>Audi A4 New 2.0 TDI Multitronic</td>\n",
              "      <td>Coimbatore</td>\n",
              "      <td>2013</td>\n",
              "      <td>40670</td>\n",
              "    </tr>\n",
              "    <tr>\n",
              "      <th>...</th>\n",
              "      <td>...</td>\n",
              "      <td>...</td>\n",
              "      <td>...</td>\n",
              "      <td>...</td>\n",
              "    </tr>\n",
              "    <tr>\n",
              "      <th>7248</th>\n",
              "      <td>Volkswagen Vento Diesel Trendline</td>\n",
              "      <td>Hyderabad</td>\n",
              "      <td>2011</td>\n",
              "      <td>89411</td>\n",
              "    </tr>\n",
              "    <tr>\n",
              "      <th>7249</th>\n",
              "      <td>Volkswagen Polo GT TSI</td>\n",
              "      <td>Mumbai</td>\n",
              "      <td>2015</td>\n",
              "      <td>59000</td>\n",
              "    </tr>\n",
              "    <tr>\n",
              "      <th>7250</th>\n",
              "      <td>Nissan Micra Diesel XV</td>\n",
              "      <td>Kolkata</td>\n",
              "      <td>2012</td>\n",
              "      <td>28000</td>\n",
              "    </tr>\n",
              "    <tr>\n",
              "      <th>7251</th>\n",
              "      <td>Volkswagen Polo GT TSI</td>\n",
              "      <td>Pune</td>\n",
              "      <td>2013</td>\n",
              "      <td>52262</td>\n",
              "    </tr>\n",
              "    <tr>\n",
              "      <th>7252</th>\n",
              "      <td>Mercedes-Benz E-Class 2009-2013 E 220 CDI Avan...</td>\n",
              "      <td>Kochi</td>\n",
              "      <td>2014</td>\n",
              "      <td>72443</td>\n",
              "    </tr>\n",
              "  </tbody>\n",
              "</table>\n",
              "<p>7253 rows × 4 columns</p>\n",
              "</div>\n",
              "      <button class=\"colab-df-convert\" onclick=\"convertToInteractive('df-1de3f258-d114-4c9d-a9a8-04b475d56e07')\"\n",
              "              title=\"Convert this dataframe to an interactive table.\"\n",
              "              style=\"display:none;\">\n",
              "        \n",
              "  <svg xmlns=\"http://www.w3.org/2000/svg\" height=\"24px\"viewBox=\"0 0 24 24\"\n",
              "       width=\"24px\">\n",
              "    <path d=\"M0 0h24v24H0V0z\" fill=\"none\"/>\n",
              "    <path d=\"M18.56 5.44l.94 2.06.94-2.06 2.06-.94-2.06-.94-.94-2.06-.94 2.06-2.06.94zm-11 1L8.5 8.5l.94-2.06 2.06-.94-2.06-.94L8.5 2.5l-.94 2.06-2.06.94zm10 10l.94 2.06.94-2.06 2.06-.94-2.06-.94-.94-2.06-.94 2.06-2.06.94z\"/><path d=\"M17.41 7.96l-1.37-1.37c-.4-.4-.92-.59-1.43-.59-.52 0-1.04.2-1.43.59L10.3 9.45l-7.72 7.72c-.78.78-.78 2.05 0 2.83L4 21.41c.39.39.9.59 1.41.59.51 0 1.02-.2 1.41-.59l7.78-7.78 2.81-2.81c.8-.78.8-2.07 0-2.86zM5.41 20L4 18.59l7.72-7.72 1.47 1.35L5.41 20z\"/>\n",
              "  </svg>\n",
              "      </button>\n",
              "      \n",
              "  <style>\n",
              "    .colab-df-container {\n",
              "      display:flex;\n",
              "      flex-wrap:wrap;\n",
              "      gap: 12px;\n",
              "    }\n",
              "\n",
              "    .colab-df-convert {\n",
              "      background-color: #E8F0FE;\n",
              "      border: none;\n",
              "      border-radius: 50%;\n",
              "      cursor: pointer;\n",
              "      display: none;\n",
              "      fill: #1967D2;\n",
              "      height: 32px;\n",
              "      padding: 0 0 0 0;\n",
              "      width: 32px;\n",
              "    }\n",
              "\n",
              "    .colab-df-convert:hover {\n",
              "      background-color: #E2EBFA;\n",
              "      box-shadow: 0px 1px 2px rgba(60, 64, 67, 0.3), 0px 1px 3px 1px rgba(60, 64, 67, 0.15);\n",
              "      fill: #174EA6;\n",
              "    }\n",
              "\n",
              "    [theme=dark] .colab-df-convert {\n",
              "      background-color: #3B4455;\n",
              "      fill: #D2E3FC;\n",
              "    }\n",
              "\n",
              "    [theme=dark] .colab-df-convert:hover {\n",
              "      background-color: #434B5C;\n",
              "      box-shadow: 0px 1px 3px 1px rgba(0, 0, 0, 0.15);\n",
              "      filter: drop-shadow(0px 1px 2px rgba(0, 0, 0, 0.3));\n",
              "      fill: #FFFFFF;\n",
              "    }\n",
              "  </style>\n",
              "\n",
              "      <script>\n",
              "        const buttonEl =\n",
              "          document.querySelector('#df-1de3f258-d114-4c9d-a9a8-04b475d56e07 button.colab-df-convert');\n",
              "        buttonEl.style.display =\n",
              "          google.colab.kernel.accessAllowed ? 'block' : 'none';\n",
              "\n",
              "        async function convertToInteractive(key) {\n",
              "          const element = document.querySelector('#df-1de3f258-d114-4c9d-a9a8-04b475d56e07');\n",
              "          const dataTable =\n",
              "            await google.colab.kernel.invokeFunction('convertToInteractive',\n",
              "                                                     [key], {});\n",
              "          if (!dataTable) return;\n",
              "\n",
              "          const docLinkHtml = 'Like what you see? Visit the ' +\n",
              "            '<a target=\"_blank\" href=https://colab.research.google.com/notebooks/data_table.ipynb>data table notebook</a>'\n",
              "            + ' to learn more about interactive tables.';\n",
              "          element.innerHTML = '';\n",
              "          dataTable['output_type'] = 'display_data';\n",
              "          await google.colab.output.renderOutput(dataTable, element);\n",
              "          const docLink = document.createElement('div');\n",
              "          docLink.innerHTML = docLinkHtml;\n",
              "          element.appendChild(docLink);\n",
              "        }\n",
              "      </script>\n",
              "    </div>\n",
              "  </div>\n",
              "  "
            ]
          },
          "metadata": {},
          "execution_count": 13
        }
      ]
    },
    {
      "cell_type": "markdown",
      "source": [
        "## **Create Features: create \"Car_Age\" column in data**"
      ],
      "metadata": {
        "id": "8azfT_CZJ23z"
      }
    },
    {
      "cell_type": "code",
      "source": [
        "from datetime import date"
      ],
      "metadata": {
        "id": "EkttcPyAKBF-"
      },
      "execution_count": null,
      "outputs": []
    },
    {
      "cell_type": "code",
      "source": [
        "date.today()"
      ],
      "metadata": {
        "colab": {
          "base_uri": "https://localhost:8080/"
        },
        "id": "wkXumpspBMhu",
        "outputId": "874a4141-bc04-4652-c0a9-c75b311238bf"
      },
      "execution_count": null,
      "outputs": [
        {
          "output_type": "execute_result",
          "data": {
            "text/plain": [
              "datetime.date(2023, 2, 1)"
            ]
          },
          "metadata": {},
          "execution_count": 15
        }
      ]
    },
    {
      "cell_type": "code",
      "source": [
        "date.today().year"
      ],
      "metadata": {
        "colab": {
          "base_uri": "https://localhost:8080/"
        },
        "id": "mpp8amCwKR0a",
        "outputId": "486d16e9-f50b-4a23-b232-e2de8683e594"
      },
      "execution_count": null,
      "outputs": [
        {
          "output_type": "execute_result",
          "data": {
            "text/plain": [
              "2023"
            ]
          },
          "metadata": {},
          "execution_count": 16
        }
      ]
    },
    {
      "cell_type": "code",
      "source": [
        "df['Car_Age']=date.today().year-df['Year']\n",
        "df.head()"
      ],
      "metadata": {
        "colab": {
          "base_uri": "https://localhost:8080/",
          "height": 444
        },
        "id": "gtOT3rr0KSao",
        "outputId": "6b182f57-b5ee-4ccb-9e1c-5da8b5935c4d"
      },
      "execution_count": null,
      "outputs": [
        {
          "output_type": "execute_result",
          "data": {
            "text/plain": [
              "                               Name    Location  Year  Kilometers_Driven  \\\n",
              "0            Maruti Wagon R LXI CNG      Mumbai  2010              72000   \n",
              "1  Hyundai Creta 1.6 CRDi SX Option        Pune  2015              41000   \n",
              "2                      Honda Jazz V     Chennai  2011              46000   \n",
              "3                 Maruti Ertiga VDI     Chennai  2012              87000   \n",
              "4   Audi A4 New 2.0 TDI Multitronic  Coimbatore  2013              40670   \n",
              "\n",
              "  Fuel_Type Transmission Owner_Type     Mileage   Engine      Power  Seats  \\\n",
              "0       CNG       Manual      First  26.6 km/kg   998 CC  58.16 bhp    5.0   \n",
              "1    Diesel       Manual      First  19.67 kmpl  1582 CC  126.2 bhp    5.0   \n",
              "2    Petrol       Manual      First   18.2 kmpl  1199 CC   88.7 bhp    5.0   \n",
              "3    Diesel       Manual      First  20.77 kmpl  1248 CC  88.76 bhp    7.0   \n",
              "4    Diesel    Automatic     Second   15.2 kmpl  1968 CC  140.8 bhp    5.0   \n",
              "\n",
              "   New_Price  Price  Car_Age  \n",
              "0        NaN   1.75       13  \n",
              "1        NaN  12.50        8  \n",
              "2  8.61 Lakh   4.50       12  \n",
              "3        NaN   6.00       11  \n",
              "4        NaN  17.74       10  "
            ],
            "text/html": [
              "\n",
              "  <div id=\"df-c122e189-39d2-4aa1-ab15-ace0c2c6a965\">\n",
              "    <div class=\"colab-df-container\">\n",
              "      <div>\n",
              "<style scoped>\n",
              "    .dataframe tbody tr th:only-of-type {\n",
              "        vertical-align: middle;\n",
              "    }\n",
              "\n",
              "    .dataframe tbody tr th {\n",
              "        vertical-align: top;\n",
              "    }\n",
              "\n",
              "    .dataframe thead th {\n",
              "        text-align: right;\n",
              "    }\n",
              "</style>\n",
              "<table border=\"1\" class=\"dataframe\">\n",
              "  <thead>\n",
              "    <tr style=\"text-align: right;\">\n",
              "      <th></th>\n",
              "      <th>Name</th>\n",
              "      <th>Location</th>\n",
              "      <th>Year</th>\n",
              "      <th>Kilometers_Driven</th>\n",
              "      <th>Fuel_Type</th>\n",
              "      <th>Transmission</th>\n",
              "      <th>Owner_Type</th>\n",
              "      <th>Mileage</th>\n",
              "      <th>Engine</th>\n",
              "      <th>Power</th>\n",
              "      <th>Seats</th>\n",
              "      <th>New_Price</th>\n",
              "      <th>Price</th>\n",
              "      <th>Car_Age</th>\n",
              "    </tr>\n",
              "  </thead>\n",
              "  <tbody>\n",
              "    <tr>\n",
              "      <th>0</th>\n",
              "      <td>Maruti Wagon R LXI CNG</td>\n",
              "      <td>Mumbai</td>\n",
              "      <td>2010</td>\n",
              "      <td>72000</td>\n",
              "      <td>CNG</td>\n",
              "      <td>Manual</td>\n",
              "      <td>First</td>\n",
              "      <td>26.6 km/kg</td>\n",
              "      <td>998 CC</td>\n",
              "      <td>58.16 bhp</td>\n",
              "      <td>5.0</td>\n",
              "      <td>NaN</td>\n",
              "      <td>1.75</td>\n",
              "      <td>13</td>\n",
              "    </tr>\n",
              "    <tr>\n",
              "      <th>1</th>\n",
              "      <td>Hyundai Creta 1.6 CRDi SX Option</td>\n",
              "      <td>Pune</td>\n",
              "      <td>2015</td>\n",
              "      <td>41000</td>\n",
              "      <td>Diesel</td>\n",
              "      <td>Manual</td>\n",
              "      <td>First</td>\n",
              "      <td>19.67 kmpl</td>\n",
              "      <td>1582 CC</td>\n",
              "      <td>126.2 bhp</td>\n",
              "      <td>5.0</td>\n",
              "      <td>NaN</td>\n",
              "      <td>12.50</td>\n",
              "      <td>8</td>\n",
              "    </tr>\n",
              "    <tr>\n",
              "      <th>2</th>\n",
              "      <td>Honda Jazz V</td>\n",
              "      <td>Chennai</td>\n",
              "      <td>2011</td>\n",
              "      <td>46000</td>\n",
              "      <td>Petrol</td>\n",
              "      <td>Manual</td>\n",
              "      <td>First</td>\n",
              "      <td>18.2 kmpl</td>\n",
              "      <td>1199 CC</td>\n",
              "      <td>88.7 bhp</td>\n",
              "      <td>5.0</td>\n",
              "      <td>8.61 Lakh</td>\n",
              "      <td>4.50</td>\n",
              "      <td>12</td>\n",
              "    </tr>\n",
              "    <tr>\n",
              "      <th>3</th>\n",
              "      <td>Maruti Ertiga VDI</td>\n",
              "      <td>Chennai</td>\n",
              "      <td>2012</td>\n",
              "      <td>87000</td>\n",
              "      <td>Diesel</td>\n",
              "      <td>Manual</td>\n",
              "      <td>First</td>\n",
              "      <td>20.77 kmpl</td>\n",
              "      <td>1248 CC</td>\n",
              "      <td>88.76 bhp</td>\n",
              "      <td>7.0</td>\n",
              "      <td>NaN</td>\n",
              "      <td>6.00</td>\n",
              "      <td>11</td>\n",
              "    </tr>\n",
              "    <tr>\n",
              "      <th>4</th>\n",
              "      <td>Audi A4 New 2.0 TDI Multitronic</td>\n",
              "      <td>Coimbatore</td>\n",
              "      <td>2013</td>\n",
              "      <td>40670</td>\n",
              "      <td>Diesel</td>\n",
              "      <td>Automatic</td>\n",
              "      <td>Second</td>\n",
              "      <td>15.2 kmpl</td>\n",
              "      <td>1968 CC</td>\n",
              "      <td>140.8 bhp</td>\n",
              "      <td>5.0</td>\n",
              "      <td>NaN</td>\n",
              "      <td>17.74</td>\n",
              "      <td>10</td>\n",
              "    </tr>\n",
              "  </tbody>\n",
              "</table>\n",
              "</div>\n",
              "      <button class=\"colab-df-convert\" onclick=\"convertToInteractive('df-c122e189-39d2-4aa1-ab15-ace0c2c6a965')\"\n",
              "              title=\"Convert this dataframe to an interactive table.\"\n",
              "              style=\"display:none;\">\n",
              "        \n",
              "  <svg xmlns=\"http://www.w3.org/2000/svg\" height=\"24px\"viewBox=\"0 0 24 24\"\n",
              "       width=\"24px\">\n",
              "    <path d=\"M0 0h24v24H0V0z\" fill=\"none\"/>\n",
              "    <path d=\"M18.56 5.44l.94 2.06.94-2.06 2.06-.94-2.06-.94-.94-2.06-.94 2.06-2.06.94zm-11 1L8.5 8.5l.94-2.06 2.06-.94-2.06-.94L8.5 2.5l-.94 2.06-2.06.94zm10 10l.94 2.06.94-2.06 2.06-.94-2.06-.94-.94-2.06-.94 2.06-2.06.94z\"/><path d=\"M17.41 7.96l-1.37-1.37c-.4-.4-.92-.59-1.43-.59-.52 0-1.04.2-1.43.59L10.3 9.45l-7.72 7.72c-.78.78-.78 2.05 0 2.83L4 21.41c.39.39.9.59 1.41.59.51 0 1.02-.2 1.41-.59l7.78-7.78 2.81-2.81c.8-.78.8-2.07 0-2.86zM5.41 20L4 18.59l7.72-7.72 1.47 1.35L5.41 20z\"/>\n",
              "  </svg>\n",
              "      </button>\n",
              "      \n",
              "  <style>\n",
              "    .colab-df-container {\n",
              "      display:flex;\n",
              "      flex-wrap:wrap;\n",
              "      gap: 12px;\n",
              "    }\n",
              "\n",
              "    .colab-df-convert {\n",
              "      background-color: #E8F0FE;\n",
              "      border: none;\n",
              "      border-radius: 50%;\n",
              "      cursor: pointer;\n",
              "      display: none;\n",
              "      fill: #1967D2;\n",
              "      height: 32px;\n",
              "      padding: 0 0 0 0;\n",
              "      width: 32px;\n",
              "    }\n",
              "\n",
              "    .colab-df-convert:hover {\n",
              "      background-color: #E2EBFA;\n",
              "      box-shadow: 0px 1px 2px rgba(60, 64, 67, 0.3), 0px 1px 3px 1px rgba(60, 64, 67, 0.15);\n",
              "      fill: #174EA6;\n",
              "    }\n",
              "\n",
              "    [theme=dark] .colab-df-convert {\n",
              "      background-color: #3B4455;\n",
              "      fill: #D2E3FC;\n",
              "    }\n",
              "\n",
              "    [theme=dark] .colab-df-convert:hover {\n",
              "      background-color: #434B5C;\n",
              "      box-shadow: 0px 1px 3px 1px rgba(0, 0, 0, 0.15);\n",
              "      filter: drop-shadow(0px 1px 2px rgba(0, 0, 0, 0.3));\n",
              "      fill: #FFFFFF;\n",
              "    }\n",
              "  </style>\n",
              "\n",
              "      <script>\n",
              "        const buttonEl =\n",
              "          document.querySelector('#df-c122e189-39d2-4aa1-ab15-ace0c2c6a965 button.colab-df-convert');\n",
              "        buttonEl.style.display =\n",
              "          google.colab.kernel.accessAllowed ? 'block' : 'none';\n",
              "\n",
              "        async function convertToInteractive(key) {\n",
              "          const element = document.querySelector('#df-c122e189-39d2-4aa1-ab15-ace0c2c6a965');\n",
              "          const dataTable =\n",
              "            await google.colab.kernel.invokeFunction('convertToInteractive',\n",
              "                                                     [key], {});\n",
              "          if (!dataTable) return;\n",
              "\n",
              "          const docLinkHtml = 'Like what you see? Visit the ' +\n",
              "            '<a target=\"_blank\" href=https://colab.research.google.com/notebooks/data_table.ipynb>data table notebook</a>'\n",
              "            + ' to learn more about interactive tables.';\n",
              "          element.innerHTML = '';\n",
              "          dataTable['output_type'] = 'display_data';\n",
              "          await google.colab.output.renderOutput(dataTable, element);\n",
              "          const docLink = document.createElement('div');\n",
              "          docLink.innerHTML = docLinkHtml;\n",
              "          element.appendChild(docLink);\n",
              "        }\n",
              "      </script>\n",
              "    </div>\n",
              "  </div>\n",
              "  "
            ]
          },
          "metadata": {},
          "execution_count": 17
        }
      ]
    },
    {
      "cell_type": "code",
      "source": [],
      "metadata": {
        "id": "qqk_FDlo7frh"
      },
      "execution_count": null,
      "outputs": []
    },
    {
      "cell_type": "markdown",
      "source": [
        "## **From \"Name\" coloumn extract \"Brand\" and \" model\" and create separate feature \"Brand\" and \" model\"**"
      ],
      "metadata": {
        "id": "WqHDPjYfLLXh"
      }
    },
    {
      "cell_type": "code",
      "source": [
        "df.Name.str.split()"
      ],
      "metadata": {
        "colab": {
          "base_uri": "https://localhost:8080/"
        },
        "id": "_sxoeXX4Lq8G",
        "outputId": "4f3060fd-bf40-4851-dbe8-553b5fcb4ee2"
      },
      "execution_count": null,
      "outputs": [
        {
          "output_type": "execute_result",
          "data": {
            "text/plain": [
              "0                            [Maruti, Wagon, R, LXI, CNG]\n",
              "1                 [Hyundai, Creta, 1.6, CRDi, SX, Option]\n",
              "2                                        [Honda, Jazz, V]\n",
              "3                                   [Maruti, Ertiga, VDI]\n",
              "4                  [Audi, A4, New, 2.0, TDI, Multitronic]\n",
              "                              ...                        \n",
              "7248               [Volkswagen, Vento, Diesel, Trendline]\n",
              "7249                          [Volkswagen, Polo, GT, TSI]\n",
              "7250                          [Nissan, Micra, Diesel, XV]\n",
              "7251                          [Volkswagen, Polo, GT, TSI]\n",
              "7252    [Mercedes-Benz, E-Class, 2009-2013, E, 220, CD...\n",
              "Name: Name, Length: 7253, dtype: object"
            ]
          },
          "metadata": {},
          "execution_count": 18
        }
      ]
    },
    {
      "cell_type": "code",
      "source": [
        "df.Name.str.split()[0]"
      ],
      "metadata": {
        "colab": {
          "base_uri": "https://localhost:8080/"
        },
        "id": "_Ny63GalLq_a",
        "outputId": "477b167a-131f-43c5-8f2e-e4074420f6f0"
      },
      "execution_count": null,
      "outputs": [
        {
          "output_type": "execute_result",
          "data": {
            "text/plain": [
              "['Maruti', 'Wagon', 'R', 'LXI', 'CNG']"
            ]
          },
          "metadata": {},
          "execution_count": 19
        }
      ]
    },
    {
      "cell_type": "code",
      "source": [
        "df.Name.str.split()[0][0]"
      ],
      "metadata": {
        "colab": {
          "base_uri": "https://localhost:8080/",
          "height": 35
        },
        "id": "YUYPTpPbMn06",
        "outputId": "51f08e0b-fc39-4180-e86e-f33988c86972"
      },
      "execution_count": null,
      "outputs": [
        {
          "output_type": "execute_result",
          "data": {
            "text/plain": [
              "'Maruti'"
            ],
            "application/vnd.google.colaboratory.intrinsic+json": {
              "type": "string"
            }
          },
          "metadata": {},
          "execution_count": 20
        }
      ]
    },
    {
      "cell_type": "code",
      "source": [
        "df.Name.str.split().str[0]"
      ],
      "metadata": {
        "colab": {
          "base_uri": "https://localhost:8080/"
        },
        "id": "dWqCh6urL9hm",
        "outputId": "12cbb1a1-5a13-4ad5-ca6b-2f0f8b3284c5"
      },
      "execution_count": null,
      "outputs": [
        {
          "output_type": "execute_result",
          "data": {
            "text/plain": [
              "0              Maruti\n",
              "1             Hyundai\n",
              "2               Honda\n",
              "3              Maruti\n",
              "4                Audi\n",
              "            ...      \n",
              "7248       Volkswagen\n",
              "7249       Volkswagen\n",
              "7250           Nissan\n",
              "7251       Volkswagen\n",
              "7252    Mercedes-Benz\n",
              "Name: Name, Length: 7253, dtype: object"
            ]
          },
          "metadata": {},
          "execution_count": 21
        }
      ]
    },
    {
      "cell_type": "code",
      "source": [
        "df.Name.str.split().str.get(0)"
      ],
      "metadata": {
        "colab": {
          "base_uri": "https://localhost:8080/"
        },
        "id": "Sx3oLNhMMVdj",
        "outputId": "cde26404-3784-42fb-960b-1726dfb32196"
      },
      "execution_count": null,
      "outputs": [
        {
          "output_type": "execute_result",
          "data": {
            "text/plain": [
              "0              Maruti\n",
              "1             Hyundai\n",
              "2               Honda\n",
              "3              Maruti\n",
              "4                Audi\n",
              "            ...      \n",
              "7248       Volkswagen\n",
              "7249       Volkswagen\n",
              "7250           Nissan\n",
              "7251       Volkswagen\n",
              "7252    Mercedes-Benz\n",
              "Name: Name, Length: 7253, dtype: object"
            ]
          },
          "metadata": {},
          "execution_count": 22
        }
      ]
    },
    {
      "cell_type": "code",
      "source": [
        "df['Brand'] = df.Name.str.split().str[0]"
      ],
      "metadata": {
        "id": "StuhwqMkLgaA"
      },
      "execution_count": null,
      "outputs": []
    },
    {
      "cell_type": "code",
      "source": [
        "df['Model'] = df.Name.str.split().str[1] +  df.Name.str.split().str[2]"
      ],
      "metadata": {
        "id": "dUw2Xx0YNm9G"
      },
      "execution_count": null,
      "outputs": []
    },
    {
      "cell_type": "code",
      "source": [
        "df_new= df[['Name','Brand','Model']]\n",
        "df_new"
      ],
      "metadata": {
        "colab": {
          "base_uri": "https://localhost:8080/",
          "height": 467
        },
        "id": "PrXQuoiuMao9",
        "outputId": "03fb5ccc-fde0-40d0-8bf7-a68b09bf3ba9"
      },
      "execution_count": null,
      "outputs": [
        {
          "output_type": "execute_result",
          "data": {
            "text/plain": [
              "                                                   Name          Brand  \\\n",
              "0                                Maruti Wagon R LXI CNG         Maruti   \n",
              "1                      Hyundai Creta 1.6 CRDi SX Option        Hyundai   \n",
              "2                                          Honda Jazz V          Honda   \n",
              "3                                     Maruti Ertiga VDI         Maruti   \n",
              "4                       Audi A4 New 2.0 TDI Multitronic           Audi   \n",
              "...                                                 ...            ...   \n",
              "7248                  Volkswagen Vento Diesel Trendline     Volkswagen   \n",
              "7249                             Volkswagen Polo GT TSI     Volkswagen   \n",
              "7250                             Nissan Micra Diesel XV         Nissan   \n",
              "7251                             Volkswagen Polo GT TSI     Volkswagen   \n",
              "7252  Mercedes-Benz E-Class 2009-2013 E 220 CDI Avan...  Mercedes-Benz   \n",
              "\n",
              "                 Model  \n",
              "0               WagonR  \n",
              "1             Creta1.6  \n",
              "2                JazzV  \n",
              "3            ErtigaVDI  \n",
              "4                A4New  \n",
              "...                ...  \n",
              "7248       VentoDiesel  \n",
              "7249            PoloGT  \n",
              "7250       MicraDiesel  \n",
              "7251            PoloGT  \n",
              "7252  E-Class2009-2013  \n",
              "\n",
              "[7253 rows x 3 columns]"
            ],
            "text/html": [
              "\n",
              "  <div id=\"df-47418fb1-11dc-4d2d-858e-64e49a47acd4\">\n",
              "    <div class=\"colab-df-container\">\n",
              "      <div>\n",
              "<style scoped>\n",
              "    .dataframe tbody tr th:only-of-type {\n",
              "        vertical-align: middle;\n",
              "    }\n",
              "\n",
              "    .dataframe tbody tr th {\n",
              "        vertical-align: top;\n",
              "    }\n",
              "\n",
              "    .dataframe thead th {\n",
              "        text-align: right;\n",
              "    }\n",
              "</style>\n",
              "<table border=\"1\" class=\"dataframe\">\n",
              "  <thead>\n",
              "    <tr style=\"text-align: right;\">\n",
              "      <th></th>\n",
              "      <th>Name</th>\n",
              "      <th>Brand</th>\n",
              "      <th>Model</th>\n",
              "    </tr>\n",
              "  </thead>\n",
              "  <tbody>\n",
              "    <tr>\n",
              "      <th>0</th>\n",
              "      <td>Maruti Wagon R LXI CNG</td>\n",
              "      <td>Maruti</td>\n",
              "      <td>WagonR</td>\n",
              "    </tr>\n",
              "    <tr>\n",
              "      <th>1</th>\n",
              "      <td>Hyundai Creta 1.6 CRDi SX Option</td>\n",
              "      <td>Hyundai</td>\n",
              "      <td>Creta1.6</td>\n",
              "    </tr>\n",
              "    <tr>\n",
              "      <th>2</th>\n",
              "      <td>Honda Jazz V</td>\n",
              "      <td>Honda</td>\n",
              "      <td>JazzV</td>\n",
              "    </tr>\n",
              "    <tr>\n",
              "      <th>3</th>\n",
              "      <td>Maruti Ertiga VDI</td>\n",
              "      <td>Maruti</td>\n",
              "      <td>ErtigaVDI</td>\n",
              "    </tr>\n",
              "    <tr>\n",
              "      <th>4</th>\n",
              "      <td>Audi A4 New 2.0 TDI Multitronic</td>\n",
              "      <td>Audi</td>\n",
              "      <td>A4New</td>\n",
              "    </tr>\n",
              "    <tr>\n",
              "      <th>...</th>\n",
              "      <td>...</td>\n",
              "      <td>...</td>\n",
              "      <td>...</td>\n",
              "    </tr>\n",
              "    <tr>\n",
              "      <th>7248</th>\n",
              "      <td>Volkswagen Vento Diesel Trendline</td>\n",
              "      <td>Volkswagen</td>\n",
              "      <td>VentoDiesel</td>\n",
              "    </tr>\n",
              "    <tr>\n",
              "      <th>7249</th>\n",
              "      <td>Volkswagen Polo GT TSI</td>\n",
              "      <td>Volkswagen</td>\n",
              "      <td>PoloGT</td>\n",
              "    </tr>\n",
              "    <tr>\n",
              "      <th>7250</th>\n",
              "      <td>Nissan Micra Diesel XV</td>\n",
              "      <td>Nissan</td>\n",
              "      <td>MicraDiesel</td>\n",
              "    </tr>\n",
              "    <tr>\n",
              "      <th>7251</th>\n",
              "      <td>Volkswagen Polo GT TSI</td>\n",
              "      <td>Volkswagen</td>\n",
              "      <td>PoloGT</td>\n",
              "    </tr>\n",
              "    <tr>\n",
              "      <th>7252</th>\n",
              "      <td>Mercedes-Benz E-Class 2009-2013 E 220 CDI Avan...</td>\n",
              "      <td>Mercedes-Benz</td>\n",
              "      <td>E-Class2009-2013</td>\n",
              "    </tr>\n",
              "  </tbody>\n",
              "</table>\n",
              "<p>7253 rows × 3 columns</p>\n",
              "</div>\n",
              "      <button class=\"colab-df-convert\" onclick=\"convertToInteractive('df-47418fb1-11dc-4d2d-858e-64e49a47acd4')\"\n",
              "              title=\"Convert this dataframe to an interactive table.\"\n",
              "              style=\"display:none;\">\n",
              "        \n",
              "  <svg xmlns=\"http://www.w3.org/2000/svg\" height=\"24px\"viewBox=\"0 0 24 24\"\n",
              "       width=\"24px\">\n",
              "    <path d=\"M0 0h24v24H0V0z\" fill=\"none\"/>\n",
              "    <path d=\"M18.56 5.44l.94 2.06.94-2.06 2.06-.94-2.06-.94-.94-2.06-.94 2.06-2.06.94zm-11 1L8.5 8.5l.94-2.06 2.06-.94-2.06-.94L8.5 2.5l-.94 2.06-2.06.94zm10 10l.94 2.06.94-2.06 2.06-.94-2.06-.94-.94-2.06-.94 2.06-2.06.94z\"/><path d=\"M17.41 7.96l-1.37-1.37c-.4-.4-.92-.59-1.43-.59-.52 0-1.04.2-1.43.59L10.3 9.45l-7.72 7.72c-.78.78-.78 2.05 0 2.83L4 21.41c.39.39.9.59 1.41.59.51 0 1.02-.2 1.41-.59l7.78-7.78 2.81-2.81c.8-.78.8-2.07 0-2.86zM5.41 20L4 18.59l7.72-7.72 1.47 1.35L5.41 20z\"/>\n",
              "  </svg>\n",
              "      </button>\n",
              "      \n",
              "  <style>\n",
              "    .colab-df-container {\n",
              "      display:flex;\n",
              "      flex-wrap:wrap;\n",
              "      gap: 12px;\n",
              "    }\n",
              "\n",
              "    .colab-df-convert {\n",
              "      background-color: #E8F0FE;\n",
              "      border: none;\n",
              "      border-radius: 50%;\n",
              "      cursor: pointer;\n",
              "      display: none;\n",
              "      fill: #1967D2;\n",
              "      height: 32px;\n",
              "      padding: 0 0 0 0;\n",
              "      width: 32px;\n",
              "    }\n",
              "\n",
              "    .colab-df-convert:hover {\n",
              "      background-color: #E2EBFA;\n",
              "      box-shadow: 0px 1px 2px rgba(60, 64, 67, 0.3), 0px 1px 3px 1px rgba(60, 64, 67, 0.15);\n",
              "      fill: #174EA6;\n",
              "    }\n",
              "\n",
              "    [theme=dark] .colab-df-convert {\n",
              "      background-color: #3B4455;\n",
              "      fill: #D2E3FC;\n",
              "    }\n",
              "\n",
              "    [theme=dark] .colab-df-convert:hover {\n",
              "      background-color: #434B5C;\n",
              "      box-shadow: 0px 1px 3px 1px rgba(0, 0, 0, 0.15);\n",
              "      filter: drop-shadow(0px 1px 2px rgba(0, 0, 0, 0.3));\n",
              "      fill: #FFFFFF;\n",
              "    }\n",
              "  </style>\n",
              "\n",
              "      <script>\n",
              "        const buttonEl =\n",
              "          document.querySelector('#df-47418fb1-11dc-4d2d-858e-64e49a47acd4 button.colab-df-convert');\n",
              "        buttonEl.style.display =\n",
              "          google.colab.kernel.accessAllowed ? 'block' : 'none';\n",
              "\n",
              "        async function convertToInteractive(key) {\n",
              "          const element = document.querySelector('#df-47418fb1-11dc-4d2d-858e-64e49a47acd4');\n",
              "          const dataTable =\n",
              "            await google.colab.kernel.invokeFunction('convertToInteractive',\n",
              "                                                     [key], {});\n",
              "          if (!dataTable) return;\n",
              "\n",
              "          const docLinkHtml = 'Like what you see? Visit the ' +\n",
              "            '<a target=\"_blank\" href=https://colab.research.google.com/notebooks/data_table.ipynb>data table notebook</a>'\n",
              "            + ' to learn more about interactive tables.';\n",
              "          element.innerHTML = '';\n",
              "          dataTable['output_type'] = 'display_data';\n",
              "          await google.colab.output.renderOutput(dataTable, element);\n",
              "          const docLink = document.createElement('div');\n",
              "          docLink.innerHTML = docLinkHtml;\n",
              "          element.appendChild(docLink);\n",
              "        }\n",
              "      </script>\n",
              "    </div>\n",
              "  </div>\n",
              "  "
            ]
          },
          "metadata": {},
          "execution_count": 25
        }
      ]
    },
    {
      "cell_type": "markdown",
      "source": [
        "## **Check data description**"
      ],
      "metadata": {
        "id": "5jgIqAHX8C5L"
      }
    },
    {
      "cell_type": "code",
      "source": [
        "df.describe()"
      ],
      "metadata": {
        "colab": {
          "base_uri": "https://localhost:8080/",
          "height": 300
        },
        "id": "1uPpCGTiN3Q9",
        "outputId": "a0e73674-b91e-48c7-fe79-12d8770cdb3d"
      },
      "execution_count": null,
      "outputs": [
        {
          "output_type": "execute_result",
          "data": {
            "text/plain": [
              "              Year  Kilometers_Driven        Seats        Price      Car_Age\n",
              "count  7253.000000       7.253000e+03  7200.000000  6019.000000  7253.000000\n",
              "mean   2013.365366       5.869906e+04     5.279722     9.479468     9.634634\n",
              "std       3.254421       8.442772e+04     0.811660    11.187917     3.254421\n",
              "min    1996.000000       1.710000e+02     0.000000     0.440000     4.000000\n",
              "25%    2011.000000       3.400000e+04     5.000000     3.500000     7.000000\n",
              "50%    2014.000000       5.341600e+04     5.000000     5.640000     9.000000\n",
              "75%    2016.000000       7.300000e+04     5.000000     9.950000    12.000000\n",
              "max    2019.000000       6.500000e+06    10.000000   160.000000    27.000000"
            ],
            "text/html": [
              "\n",
              "  <div id=\"df-9cf5961c-3071-4461-a6b6-e7ba149a10b4\">\n",
              "    <div class=\"colab-df-container\">\n",
              "      <div>\n",
              "<style scoped>\n",
              "    .dataframe tbody tr th:only-of-type {\n",
              "        vertical-align: middle;\n",
              "    }\n",
              "\n",
              "    .dataframe tbody tr th {\n",
              "        vertical-align: top;\n",
              "    }\n",
              "\n",
              "    .dataframe thead th {\n",
              "        text-align: right;\n",
              "    }\n",
              "</style>\n",
              "<table border=\"1\" class=\"dataframe\">\n",
              "  <thead>\n",
              "    <tr style=\"text-align: right;\">\n",
              "      <th></th>\n",
              "      <th>Year</th>\n",
              "      <th>Kilometers_Driven</th>\n",
              "      <th>Seats</th>\n",
              "      <th>Price</th>\n",
              "      <th>Car_Age</th>\n",
              "    </tr>\n",
              "  </thead>\n",
              "  <tbody>\n",
              "    <tr>\n",
              "      <th>count</th>\n",
              "      <td>7253.000000</td>\n",
              "      <td>7.253000e+03</td>\n",
              "      <td>7200.000000</td>\n",
              "      <td>6019.000000</td>\n",
              "      <td>7253.000000</td>\n",
              "    </tr>\n",
              "    <tr>\n",
              "      <th>mean</th>\n",
              "      <td>2013.365366</td>\n",
              "      <td>5.869906e+04</td>\n",
              "      <td>5.279722</td>\n",
              "      <td>9.479468</td>\n",
              "      <td>9.634634</td>\n",
              "    </tr>\n",
              "    <tr>\n",
              "      <th>std</th>\n",
              "      <td>3.254421</td>\n",
              "      <td>8.442772e+04</td>\n",
              "      <td>0.811660</td>\n",
              "      <td>11.187917</td>\n",
              "      <td>3.254421</td>\n",
              "    </tr>\n",
              "    <tr>\n",
              "      <th>min</th>\n",
              "      <td>1996.000000</td>\n",
              "      <td>1.710000e+02</td>\n",
              "      <td>0.000000</td>\n",
              "      <td>0.440000</td>\n",
              "      <td>4.000000</td>\n",
              "    </tr>\n",
              "    <tr>\n",
              "      <th>25%</th>\n",
              "      <td>2011.000000</td>\n",
              "      <td>3.400000e+04</td>\n",
              "      <td>5.000000</td>\n",
              "      <td>3.500000</td>\n",
              "      <td>7.000000</td>\n",
              "    </tr>\n",
              "    <tr>\n",
              "      <th>50%</th>\n",
              "      <td>2014.000000</td>\n",
              "      <td>5.341600e+04</td>\n",
              "      <td>5.000000</td>\n",
              "      <td>5.640000</td>\n",
              "      <td>9.000000</td>\n",
              "    </tr>\n",
              "    <tr>\n",
              "      <th>75%</th>\n",
              "      <td>2016.000000</td>\n",
              "      <td>7.300000e+04</td>\n",
              "      <td>5.000000</td>\n",
              "      <td>9.950000</td>\n",
              "      <td>12.000000</td>\n",
              "    </tr>\n",
              "    <tr>\n",
              "      <th>max</th>\n",
              "      <td>2019.000000</td>\n",
              "      <td>6.500000e+06</td>\n",
              "      <td>10.000000</td>\n",
              "      <td>160.000000</td>\n",
              "      <td>27.000000</td>\n",
              "    </tr>\n",
              "  </tbody>\n",
              "</table>\n",
              "</div>\n",
              "      <button class=\"colab-df-convert\" onclick=\"convertToInteractive('df-9cf5961c-3071-4461-a6b6-e7ba149a10b4')\"\n",
              "              title=\"Convert this dataframe to an interactive table.\"\n",
              "              style=\"display:none;\">\n",
              "        \n",
              "  <svg xmlns=\"http://www.w3.org/2000/svg\" height=\"24px\"viewBox=\"0 0 24 24\"\n",
              "       width=\"24px\">\n",
              "    <path d=\"M0 0h24v24H0V0z\" fill=\"none\"/>\n",
              "    <path d=\"M18.56 5.44l.94 2.06.94-2.06 2.06-.94-2.06-.94-.94-2.06-.94 2.06-2.06.94zm-11 1L8.5 8.5l.94-2.06 2.06-.94-2.06-.94L8.5 2.5l-.94 2.06-2.06.94zm10 10l.94 2.06.94-2.06 2.06-.94-2.06-.94-.94-2.06-.94 2.06-2.06.94z\"/><path d=\"M17.41 7.96l-1.37-1.37c-.4-.4-.92-.59-1.43-.59-.52 0-1.04.2-1.43.59L10.3 9.45l-7.72 7.72c-.78.78-.78 2.05 0 2.83L4 21.41c.39.39.9.59 1.41.59.51 0 1.02-.2 1.41-.59l7.78-7.78 2.81-2.81c.8-.78.8-2.07 0-2.86zM5.41 20L4 18.59l7.72-7.72 1.47 1.35L5.41 20z\"/>\n",
              "  </svg>\n",
              "      </button>\n",
              "      \n",
              "  <style>\n",
              "    .colab-df-container {\n",
              "      display:flex;\n",
              "      flex-wrap:wrap;\n",
              "      gap: 12px;\n",
              "    }\n",
              "\n",
              "    .colab-df-convert {\n",
              "      background-color: #E8F0FE;\n",
              "      border: none;\n",
              "      border-radius: 50%;\n",
              "      cursor: pointer;\n",
              "      display: none;\n",
              "      fill: #1967D2;\n",
              "      height: 32px;\n",
              "      padding: 0 0 0 0;\n",
              "      width: 32px;\n",
              "    }\n",
              "\n",
              "    .colab-df-convert:hover {\n",
              "      background-color: #E2EBFA;\n",
              "      box-shadow: 0px 1px 2px rgba(60, 64, 67, 0.3), 0px 1px 3px 1px rgba(60, 64, 67, 0.15);\n",
              "      fill: #174EA6;\n",
              "    }\n",
              "\n",
              "    [theme=dark] .colab-df-convert {\n",
              "      background-color: #3B4455;\n",
              "      fill: #D2E3FC;\n",
              "    }\n",
              "\n",
              "    [theme=dark] .colab-df-convert:hover {\n",
              "      background-color: #434B5C;\n",
              "      box-shadow: 0px 1px 3px 1px rgba(0, 0, 0, 0.15);\n",
              "      filter: drop-shadow(0px 1px 2px rgba(0, 0, 0, 0.3));\n",
              "      fill: #FFFFFF;\n",
              "    }\n",
              "  </style>\n",
              "\n",
              "      <script>\n",
              "        const buttonEl =\n",
              "          document.querySelector('#df-9cf5961c-3071-4461-a6b6-e7ba149a10b4 button.colab-df-convert');\n",
              "        buttonEl.style.display =\n",
              "          google.colab.kernel.accessAllowed ? 'block' : 'none';\n",
              "\n",
              "        async function convertToInteractive(key) {\n",
              "          const element = document.querySelector('#df-9cf5961c-3071-4461-a6b6-e7ba149a10b4');\n",
              "          const dataTable =\n",
              "            await google.colab.kernel.invokeFunction('convertToInteractive',\n",
              "                                                     [key], {});\n",
              "          if (!dataTable) return;\n",
              "\n",
              "          const docLinkHtml = 'Like what you see? Visit the ' +\n",
              "            '<a target=\"_blank\" href=https://colab.research.google.com/notebooks/data_table.ipynb>data table notebook</a>'\n",
              "            + ' to learn more about interactive tables.';\n",
              "          element.innerHTML = '';\n",
              "          dataTable['output_type'] = 'display_data';\n",
              "          await google.colab.output.renderOutput(dataTable, element);\n",
              "          const docLink = document.createElement('div');\n",
              "          docLink.innerHTML = docLinkHtml;\n",
              "          element.appendChild(docLink);\n",
              "        }\n",
              "      </script>\n",
              "    </div>\n",
              "  </div>\n",
              "  "
            ]
          },
          "metadata": {},
          "execution_count": 26
        }
      ]
    },
    {
      "cell_type": "code",
      "source": [
        "df.describe().T"
      ],
      "metadata": {
        "colab": {
          "base_uri": "https://localhost:8080/",
          "height": 270
        },
        "id": "KDVyydo9OhZb",
        "outputId": "197e7374-cf15-49bd-80b7-6f6b06ff86ba"
      },
      "execution_count": null,
      "outputs": [
        {
          "output_type": "execute_result",
          "data": {
            "text/plain": [
              "                    count          mean           std      min      25%  \\\n",
              "Year               7253.0   2013.365366      3.254421  1996.00   2011.0   \n",
              "Kilometers_Driven  7253.0  58699.063146  84427.720583   171.00  34000.0   \n",
              "Seats              7200.0      5.279722      0.811660     0.00      5.0   \n",
              "Price              6019.0      9.479468     11.187917     0.44      3.5   \n",
              "Car_Age            7253.0      9.634634      3.254421     4.00      7.0   \n",
              "\n",
              "                        50%       75%        max  \n",
              "Year                2014.00   2016.00     2019.0  \n",
              "Kilometers_Driven  53416.00  73000.00  6500000.0  \n",
              "Seats                  5.00      5.00       10.0  \n",
              "Price                  5.64      9.95      160.0  \n",
              "Car_Age                9.00     12.00       27.0  "
            ],
            "text/html": [
              "\n",
              "  <div id=\"df-322e78bc-9ff2-4681-9898-cb3955d797a9\">\n",
              "    <div class=\"colab-df-container\">\n",
              "      <div>\n",
              "<style scoped>\n",
              "    .dataframe tbody tr th:only-of-type {\n",
              "        vertical-align: middle;\n",
              "    }\n",
              "\n",
              "    .dataframe tbody tr th {\n",
              "        vertical-align: top;\n",
              "    }\n",
              "\n",
              "    .dataframe thead th {\n",
              "        text-align: right;\n",
              "    }\n",
              "</style>\n",
              "<table border=\"1\" class=\"dataframe\">\n",
              "  <thead>\n",
              "    <tr style=\"text-align: right;\">\n",
              "      <th></th>\n",
              "      <th>count</th>\n",
              "      <th>mean</th>\n",
              "      <th>std</th>\n",
              "      <th>min</th>\n",
              "      <th>25%</th>\n",
              "      <th>50%</th>\n",
              "      <th>75%</th>\n",
              "      <th>max</th>\n",
              "    </tr>\n",
              "  </thead>\n",
              "  <tbody>\n",
              "    <tr>\n",
              "      <th>Year</th>\n",
              "      <td>7253.0</td>\n",
              "      <td>2013.365366</td>\n",
              "      <td>3.254421</td>\n",
              "      <td>1996.00</td>\n",
              "      <td>2011.0</td>\n",
              "      <td>2014.00</td>\n",
              "      <td>2016.00</td>\n",
              "      <td>2019.0</td>\n",
              "    </tr>\n",
              "    <tr>\n",
              "      <th>Kilometers_Driven</th>\n",
              "      <td>7253.0</td>\n",
              "      <td>58699.063146</td>\n",
              "      <td>84427.720583</td>\n",
              "      <td>171.00</td>\n",
              "      <td>34000.0</td>\n",
              "      <td>53416.00</td>\n",
              "      <td>73000.00</td>\n",
              "      <td>6500000.0</td>\n",
              "    </tr>\n",
              "    <tr>\n",
              "      <th>Seats</th>\n",
              "      <td>7200.0</td>\n",
              "      <td>5.279722</td>\n",
              "      <td>0.811660</td>\n",
              "      <td>0.00</td>\n",
              "      <td>5.0</td>\n",
              "      <td>5.00</td>\n",
              "      <td>5.00</td>\n",
              "      <td>10.0</td>\n",
              "    </tr>\n",
              "    <tr>\n",
              "      <th>Price</th>\n",
              "      <td>6019.0</td>\n",
              "      <td>9.479468</td>\n",
              "      <td>11.187917</td>\n",
              "      <td>0.44</td>\n",
              "      <td>3.5</td>\n",
              "      <td>5.64</td>\n",
              "      <td>9.95</td>\n",
              "      <td>160.0</td>\n",
              "    </tr>\n",
              "    <tr>\n",
              "      <th>Car_Age</th>\n",
              "      <td>7253.0</td>\n",
              "      <td>9.634634</td>\n",
              "      <td>3.254421</td>\n",
              "      <td>4.00</td>\n",
              "      <td>7.0</td>\n",
              "      <td>9.00</td>\n",
              "      <td>12.00</td>\n",
              "      <td>27.0</td>\n",
              "    </tr>\n",
              "  </tbody>\n",
              "</table>\n",
              "</div>\n",
              "      <button class=\"colab-df-convert\" onclick=\"convertToInteractive('df-322e78bc-9ff2-4681-9898-cb3955d797a9')\"\n",
              "              title=\"Convert this dataframe to an interactive table.\"\n",
              "              style=\"display:none;\">\n",
              "        \n",
              "  <svg xmlns=\"http://www.w3.org/2000/svg\" height=\"24px\"viewBox=\"0 0 24 24\"\n",
              "       width=\"24px\">\n",
              "    <path d=\"M0 0h24v24H0V0z\" fill=\"none\"/>\n",
              "    <path d=\"M18.56 5.44l.94 2.06.94-2.06 2.06-.94-2.06-.94-.94-2.06-.94 2.06-2.06.94zm-11 1L8.5 8.5l.94-2.06 2.06-.94-2.06-.94L8.5 2.5l-.94 2.06-2.06.94zm10 10l.94 2.06.94-2.06 2.06-.94-2.06-.94-.94-2.06-.94 2.06-2.06.94z\"/><path d=\"M17.41 7.96l-1.37-1.37c-.4-.4-.92-.59-1.43-.59-.52 0-1.04.2-1.43.59L10.3 9.45l-7.72 7.72c-.78.78-.78 2.05 0 2.83L4 21.41c.39.39.9.59 1.41.59.51 0 1.02-.2 1.41-.59l7.78-7.78 2.81-2.81c.8-.78.8-2.07 0-2.86zM5.41 20L4 18.59l7.72-7.72 1.47 1.35L5.41 20z\"/>\n",
              "  </svg>\n",
              "      </button>\n",
              "      \n",
              "  <style>\n",
              "    .colab-df-container {\n",
              "      display:flex;\n",
              "      flex-wrap:wrap;\n",
              "      gap: 12px;\n",
              "    }\n",
              "\n",
              "    .colab-df-convert {\n",
              "      background-color: #E8F0FE;\n",
              "      border: none;\n",
              "      border-radius: 50%;\n",
              "      cursor: pointer;\n",
              "      display: none;\n",
              "      fill: #1967D2;\n",
              "      height: 32px;\n",
              "      padding: 0 0 0 0;\n",
              "      width: 32px;\n",
              "    }\n",
              "\n",
              "    .colab-df-convert:hover {\n",
              "      background-color: #E2EBFA;\n",
              "      box-shadow: 0px 1px 2px rgba(60, 64, 67, 0.3), 0px 1px 3px 1px rgba(60, 64, 67, 0.15);\n",
              "      fill: #174EA6;\n",
              "    }\n",
              "\n",
              "    [theme=dark] .colab-df-convert {\n",
              "      background-color: #3B4455;\n",
              "      fill: #D2E3FC;\n",
              "    }\n",
              "\n",
              "    [theme=dark] .colab-df-convert:hover {\n",
              "      background-color: #434B5C;\n",
              "      box-shadow: 0px 1px 3px 1px rgba(0, 0, 0, 0.15);\n",
              "      filter: drop-shadow(0px 1px 2px rgba(0, 0, 0, 0.3));\n",
              "      fill: #FFFFFF;\n",
              "    }\n",
              "  </style>\n",
              "\n",
              "      <script>\n",
              "        const buttonEl =\n",
              "          document.querySelector('#df-322e78bc-9ff2-4681-9898-cb3955d797a9 button.colab-df-convert');\n",
              "        buttonEl.style.display =\n",
              "          google.colab.kernel.accessAllowed ? 'block' : 'none';\n",
              "\n",
              "        async function convertToInteractive(key) {\n",
              "          const element = document.querySelector('#df-322e78bc-9ff2-4681-9898-cb3955d797a9');\n",
              "          const dataTable =\n",
              "            await google.colab.kernel.invokeFunction('convertToInteractive',\n",
              "                                                     [key], {});\n",
              "          if (!dataTable) return;\n",
              "\n",
              "          const docLinkHtml = 'Like what you see? Visit the ' +\n",
              "            '<a target=\"_blank\" href=https://colab.research.google.com/notebooks/data_table.ipynb>data table notebook</a>'\n",
              "            + ' to learn more about interactive tables.';\n",
              "          element.innerHTML = '';\n",
              "          dataTable['output_type'] = 'display_data';\n",
              "          await google.colab.output.renderOutput(dataTable, element);\n",
              "          const docLink = document.createElement('div');\n",
              "          docLink.innerHTML = docLinkHtml;\n",
              "          element.appendChild(docLink);\n",
              "        }\n",
              "      </script>\n",
              "    </div>\n",
              "  </div>\n",
              "  "
            ]
          },
          "metadata": {},
          "execution_count": 27
        }
      ]
    },
    {
      "cell_type": "markdown",
      "source": [
        "## **Separate Numerical and categorical variables for easy analysis**"
      ],
      "metadata": {
        "id": "eAq3oqM4VFKX"
      }
    },
    {
      "cell_type": "code",
      "source": [
        "df.dtypes"
      ],
      "metadata": {
        "colab": {
          "base_uri": "https://localhost:8080/"
        },
        "id": "pMIuOdJYVrj8",
        "outputId": "f25cb70e-9de3-4dca-cfb0-9dc8114fc211"
      },
      "execution_count": null,
      "outputs": [
        {
          "output_type": "execute_result",
          "data": {
            "text/plain": [
              "Name                  object\n",
              "Location              object\n",
              "Year                   int64\n",
              "Kilometers_Driven      int64\n",
              "Fuel_Type             object\n",
              "Transmission          object\n",
              "Owner_Type            object\n",
              "Mileage               object\n",
              "Engine                object\n",
              "Power                 object\n",
              "Seats                float64\n",
              "New_Price             object\n",
              "Price                float64\n",
              "Car_Age                int64\n",
              "Brand                 object\n",
              "Model                 object\n",
              "dtype: object"
            ]
          },
          "metadata": {},
          "execution_count": 28
        }
      ]
    },
    {
      "cell_type": "code",
      "source": [
        "Categorical_Variables=df.select_dtypes(include=['object']).columns\n",
        "Categorical_Variables"
      ],
      "metadata": {
        "id": "zS0L6GE7VI1r",
        "colab": {
          "base_uri": "https://localhost:8080/"
        },
        "outputId": "baf2e457-52c3-4dad-dbc6-03fa183042f0"
      },
      "execution_count": null,
      "outputs": [
        {
          "output_type": "execute_result",
          "data": {
            "text/plain": [
              "Index(['Name', 'Location', 'Fuel_Type', 'Transmission', 'Owner_Type',\n",
              "       'Mileage', 'Engine', 'Power', 'New_Price', 'Brand', 'Model'],\n",
              "      dtype='object')"
            ]
          },
          "metadata": {},
          "execution_count": 29
        }
      ]
    },
    {
      "cell_type": "code",
      "source": [
        "Categorical_Variables"
      ],
      "metadata": {
        "colab": {
          "base_uri": "https://localhost:8080/"
        },
        "id": "mH73rhR3VjmQ",
        "outputId": "30d82279-d3d7-4823-dc66-a5a01f4a16e2"
      },
      "execution_count": null,
      "outputs": [
        {
          "output_type": "execute_result",
          "data": {
            "text/plain": [
              "Index(['Name', 'Location', 'Fuel_Type', 'Transmission', 'Owner_Type',\n",
              "       'Mileage', 'Engine', 'Power', 'New_Price', 'Brand', 'Model'],\n",
              "      dtype='object')"
            ]
          },
          "metadata": {},
          "execution_count": 30
        }
      ]
    },
    {
      "cell_type": "code",
      "source": [
        "Numerical_Variables = df.select_dtypes(include=['int64','float64']).columns\n",
        "Numerical_Variables"
      ],
      "metadata": {
        "colab": {
          "base_uri": "https://localhost:8080/"
        },
        "id": "kJChVZ5wWaFH",
        "outputId": "96278508-ee15-4938-ee75-27854a656031"
      },
      "execution_count": null,
      "outputs": [
        {
          "output_type": "execute_result",
          "data": {
            "text/plain": [
              "Index(['Year', 'Kilometers_Driven', 'Seats', 'Price', 'Car_Age'], dtype='object')"
            ]
          },
          "metadata": {},
          "execution_count": 31
        }
      ]
    },
    {
      "cell_type": "code",
      "source": [
        "Numerical_Variables_1 = df.select_dtypes(include=np.number).columns\n",
        "Numerical_Variables_1"
      ],
      "metadata": {
        "colab": {
          "base_uri": "https://localhost:8080/"
        },
        "id": "8I6pxZZpV-PW",
        "outputId": "fb795a05-4e1f-4566-ec1a-eb5b5efe13f1"
      },
      "execution_count": null,
      "outputs": [
        {
          "output_type": "execute_result",
          "data": {
            "text/plain": [
              "Index(['Year', 'Kilometers_Driven', 'Seats', 'Price', 'Car_Age'], dtype='object')"
            ]
          },
          "metadata": {},
          "execution_count": 32
        }
      ]
    },
    {
      "cell_type": "code",
      "source": [
        "num_cols=Numerical_Variables_1.tolist()\n",
        "num_cols"
      ],
      "metadata": {
        "colab": {
          "base_uri": "https://localhost:8080/"
        },
        "id": "KCxcQiBLVbQd",
        "outputId": "6413b1d1-3266-47a8-d92e-3732fce27bb7"
      },
      "execution_count": null,
      "outputs": [
        {
          "output_type": "execute_result",
          "data": {
            "text/plain": [
              "['Year', 'Kilometers_Driven', 'Seats', 'Price', 'Car_Age']"
            ]
          },
          "metadata": {},
          "execution_count": 33
        }
      ]
    },
    {
      "cell_type": "markdown",
      "source": [
        "## **EDA Univariate Analysis**"
      ],
      "metadata": {
        "id": "UfrAQPMMsE_7"
      }
    },
    {
      "cell_type": "markdown",
      "source": [
        "##Analyzing/visualizing the dataset by taking one variable at a time:\n",
        "\n",
        "##Categorical variables can be visualized using a Count plot, Bar Chart, Pie Plot, etc.\n",
        "\n",
        "##Numerical Variables can be visualized using Histogram, Box Plot, Density Plot, etc."
      ],
      "metadata": {
        "id": "ML3U4oZDsRvT"
      }
    },
    {
      "cell_type": "markdown",
      "source": [
        "## **categorical variables are being visualized using a count plot**"
      ],
      "metadata": {
        "id": "4ccQ7qBawaTz"
      }
    },
    {
      "cell_type": "code",
      "source": [
        "import matplotlib.pyplot as plt\n",
        "import seaborn as sns"
      ],
      "metadata": {
        "id": "ZKqkqqAk8hcf"
      },
      "execution_count": null,
      "outputs": []
    },
    {
      "cell_type": "code",
      "source": [
        "sns.countplot(x = 'Fuel_Type', data = df, color = 'blue',\n",
        "              order = df['Fuel_Type'].value_counts().index)"
      ],
      "metadata": {
        "colab": {
          "base_uri": "https://localhost:8080/",
          "height": 300
        },
        "id": "Z0deb-FnMxrf",
        "outputId": "ed362ee7-94e4-4733-fc77-cd16f64737b9"
      },
      "execution_count": null,
      "outputs": [
        {
          "output_type": "execute_result",
          "data": {
            "text/plain": [
              "<matplotlib.axes._subplots.AxesSubplot at 0x7f78dd43c2e0>"
            ]
          },
          "metadata": {},
          "execution_count": 35
        },
        {
          "output_type": "display_data",
          "data": {
            "text/plain": [
              "<Figure size 432x288 with 1 Axes>"
            ],
            "image/png": "[encoded data removed]"
          },
          "metadata": {
            "needs_background": "light"
          }
        }
      ]
    },
    {
      "cell_type": "code",
      "source": [
        "fig, axes = plt.subplots(3, 2, figsize = (18, 18))\n",
        "\n",
        "fig.suptitle('Bar plot for all categorical variables in the dataset')\n",
        "\n",
        "\n",
        "sns.countplot(ax = axes[0, 0], x = 'Fuel_Type', data = df, color = 'blue',\n",
        "              order = df['Fuel_Type'].value_counts().index);\n",
        "\n",
        "\n",
        "sns.countplot(ax = axes[0, 1], x = 'Transmission', data = df, color = 'blue',\n",
        "              order = df['Transmission'].value_counts().index);\n",
        "\n",
        "\n",
        "sns.countplot(ax = axes[1, 0], x = 'Owner_Type', data = df, color = 'blue',\n",
        "              order = df['Owner_Type'].value_counts().index);\n",
        "\n",
        "\n",
        "sns.countplot(ax = axes[1, 1], x = 'Location', data = df, color = 'blue',\n",
        "              order = df['Location'].value_counts().index);\n",
        "\n",
        "\n",
        "sns.countplot(ax = axes[2, 0], x = 'Brand', data = df, color = 'blue',\n",
        "              order = df['Brand'].head(20).value_counts().index);\n",
        "\n",
        "\n",
        "sns.countplot(ax = axes[2, 1], x = 'Model', data = df, color = 'blue',\n",
        "              order = df['Model'].head(20).value_counts().index);\n",
        "\n",
        "axes[1][1].tick_params(labelrotation=45);\n",
        "axes[2][0].tick_params(labelrotation=90);\n",
        "axes[2][1].tick_params(labelrotation=90);"
      ],
      "metadata": {
        "colab": {
          "base_uri": "https://localhost:8080/",
          "height": 758
        },
        "id": "TvQsUAOpwcSr",
        "outputId": "bc0b837c-2fd9-4a91-d104-eef9b4f28273"
      },
      "execution_count": null,
      "outputs": [
        {
          "output_type": "display_data",
          "data": {
            "text/plain": [
              "<Figure size 1296x1296 with 6 Axes>"
            ],
            "image/png": "[encoded data removed]"
          },
          "metadata": {
            "needs_background": "light"
          }
        }
      ]
    },
    {
      "cell_type": "code",
      "source": [
        "sns.countplot( x = 'Fuel_Type', data = df, color = 'blue',order = df['Fuel_Type'].value_counts().index)"
      ],
      "metadata": {
        "colab": {
          "base_uri": "https://localhost:8080/",
          "height": 300
        },
        "id": "gH4WoXWNTmZo",
        "outputId": "52fdec50-0792-4301-9b27-865de5480617"
      },
      "execution_count": null,
      "outputs": [
        {
          "output_type": "execute_result",
          "data": {
            "text/plain": [
              "<matplotlib.axes._subplots.AxesSubplot at 0x7f78dcc70460>"
            ]
          },
          "metadata": {},
          "execution_count": 37
        },
        {
          "output_type": "display_data",
          "data": {
            "text/plain": [
              "<Figure size 432x288 with 1 Axes>"
            ],
            "image/png": "[encoded data removed]"
          },
          "metadata": {
            "needs_background": "light"
          }
        }
      ]
    },
    {
      "cell_type": "markdown",
      "source": [
        "From the count plot, we can have below observations\n",
        "\n",
        "Mumbai has the highest number of cars available for purchase, followed by Hyderabad and Coimbatore\n",
        "~53% of cars have fuel type as Diesel this shows diesel cars provide higher performance\n",
        "~72% of cars have manual transmission\n",
        "~82 % of cars are First owned cars. This shows most of the buyers prefer to purchase first-owner cars\n",
        "~20% of cars belong to the brand Maruti followed by 19% of cars belonging to Hyundai\n",
        "WagonR ranks first among all models which are available for purchase"
      ],
      "metadata": {
        "id": "RxJlMGjp468a"
      }
    },
    {
      "cell_type": "markdown",
      "source": [
        "## **Draw Histogram and  Box Plot for continuous Variables**"
      ],
      "metadata": {
        "id": "Xp63h0rGsrG0"
      }
    },
    {
      "cell_type": "code",
      "source": [
        "import matplotlib.pyplot as plt\n",
        "import seaborn as sns\n"
      ],
      "metadata": {
        "id": "VfD20BX_q-7G"
      },
      "execution_count": null,
      "outputs": []
    },
    {
      "cell_type": "code",
      "source": [
        "for col in num_cols:\n",
        "    print(col)\n",
        "    print('Skew :', round(df[col].skew(), 2))\n",
        "    plt.figure(figsize = (15, 4))\n",
        "\n",
        "\n",
        "    plt.subplot(1, 2, 1)\n",
        "    df[col].hist(grid=False)\n",
        "    plt.ylabel('count')\n",
        "\n",
        "\n",
        "    plt.subplot(1, 2, 2)\n",
        "    sns.boxplot(x=df[col])\n",
        "    plt.show()"
      ],
      "metadata": {
        "colab": {
          "base_uri": "https://localhost:8080/",
          "height": 1000
        },
        "id": "nstPp1Q8W1VQ",
        "outputId": "ea868d8b-021e-48f0-c599-cacb2ec8435d"
      },
      "execution_count": null,
      "outputs": [
        {
          "output_type": "stream",
          "name": "stdout",
          "text": [
            "Year\n",
            "Skew : -0.84\n"
          ]
        },
        {
          "output_type": "display_data",
          "data": {
            "text/plain": [
              "<Figure size 1080x288 with 2 Axes>"
            ],
            "image/png": "[encoded data removed]"
          },
          "metadata": {
            "needs_background": "light"
          }
        },
        {
          "output_type": "stream",
          "name": "stdout",
          "text": [
            "Kilometers_Driven\n",
            "Skew : 61.58\n"
          ]
        },
        {
          "output_type": "display_data",
          "data": {
            "text/plain": [
              "<Figure size 1080x288 with 2 Axes>"
            ],
            "image/png": "[encoded data removed]"
          },
          "metadata": {
            "needs_background": "light"
          }
        },
        {
          "output_type": "stream",
          "name": "stdout",
          "text": [
            "Seats\n",
            "Skew : 1.9\n"
          ]
        },
        {
          "output_type": "display_data",
          "data": {
            "text/plain": [
              "<Figure size 1080x288 with 2 Axes>"
            ],
            "image/png": "[encoded data removed]"
          },
          "metadata": {
            "needs_background": "light"
          }
        },
        {
          "output_type": "stream",
          "name": "stdout",
          "text": [
            "Price\n",
            "Skew : 3.34\n"
          ]
        },
        {
          "output_type": "display_data",
          "data": {
            "text/plain": [
              "<Figure size 1080x288 with 2 Axes>"
            ],
            "image/png": "[encoded data removed]"
          },
          "metadata": {
            "needs_background": "light"
          }
        },
        {
          "output_type": "stream",
          "name": "stdout",
          "text": [
            "Car_Age\n",
            "Skew : 0.84\n"
          ]
        },
        {
          "output_type": "display_data",
          "data": {
            "text/plain": [
              "<Figure size 1080x288 with 2 Axes>"
            ],
            "image/png": "[encoded data removed]"
          },
          "metadata": {
            "needs_background": "light"
          }
        }
      ]
    },
    {
      "cell_type": "markdown",
      "source": [
        "Observation:\n",
        "Price and Kilometers Driven are right skewed for this data to be transformed, and all outliers will be handled during imputation"
      ],
      "metadata": {
        "id": "U36TqYAI5Sny"
      }
    },
    {
      "cell_type": "code",
      "source": [],
      "metadata": {
        "id": "XN8-qcfa1SaB"
      },
      "execution_count": null,
      "outputs": []
    },
    {
      "cell_type": "markdown",
      "source": [
        "## **EDA Bivariate Analysis**"
      ],
      "metadata": {
        "id": "PCRCKjTO1TIE"
      }
    },
    {
      "cell_type": "markdown",
      "source": [
        "## **Numerical variables, Pair plots and Scatter plots are widely been used to do Bivariate Analysis.**"
      ],
      "metadata": {
        "id": "-X5CgaU01pz-"
      }
    },
    {
      "cell_type": "code",
      "source": [
        "plt.figure(figsize=(13,17))\n",
        "sns.pairplot(data=df)\n",
        "plt.show()"
      ],
      "metadata": {
        "colab": {
          "base_uri": "https://localhost:8080/",
          "height": 681
        },
        "id": "xtnuOMMT1sMr",
        "outputId": "1de8b366-f4e5-491e-b977-5d875815945d"
      },
      "execution_count": null,
      "outputs": [
        {
          "output_type": "display_data",
          "data": {
            "text/plain": [
              "<Figure size 936x1224 with 0 Axes>"
            ]
          },
          "metadata": {}
        },
        {
          "output_type": "display_data",
          "data": {
            "text/plain": [
              "<Figure size 900x900 with 30 Axes>"
            ],
            "image/png": "[encoded data removed]"
          },
          "metadata": {
            "needs_background": "light"
          }
        }
      ]
    },
    {
      "cell_type": "markdown",
      "source": [
        "Pair Plot provides below insights:\n",
        "\n",
        "The variable Year has a positive correlation with price and mileage\n",
        "A year has a Negative correlation with kilometers-Driven\n",
        "Mileage is negatively correlated with Power\n",
        "As power increases, mileage decreases\n",
        "Car with recent make is higher at prices. As the age of the car increases price decreases\n",
        "Engine and Power increase, and the price of the car increases"
      ],
      "metadata": {
        "id": "jGmPgZq94hOC"
      }
    },
    {
      "cell_type": "markdown",
      "source": [
        "## **A bar plot to show the relationship between Categorical variables and continuous variables**"
      ],
      "metadata": {
        "id": "1_ftOCJn4muk"
      }
    },
    {
      "cell_type": "code",
      "source": [
        "df.groupby('Location')['Price'].mean().sort_values(ascending=False).plot.bar(fontsize=12)"
      ],
      "metadata": {
        "colab": {
          "base_uri": "https://localhost:8080/",
          "height": 360
        },
        "id": "Ew9b3uDsMgMQ",
        "outputId": "e449cfe9-d43c-4cf9-e120-616c129a48d2"
      },
      "execution_count": null,
      "outputs": [
        {
          "output_type": "execute_result",
          "data": {
            "text/plain": [
              "<matplotlib.axes._subplots.AxesSubplot at 0x7f78dcc49610>"
            ]
          },
          "metadata": {},
          "execution_count": 41
        },
        {
          "output_type": "display_data",
          "data": {
            "text/plain": [
              "<Figure size 432x288 with 1 Axes>"
            ],
            "image/png": "[encoded data removed]"
          },
          "metadata": {
            "needs_background": "light"
          }
        }
      ]
    },
    {
      "cell_type": "code",
      "source": [
        "fig, axarr = plt.subplots(4, 2, figsize=(12, 18))\n",
        "df.groupby('Location')['Price'].mean().sort_values(ascending=False).plot.bar(ax=axarr[0][0], fontsize=12)\n",
        "axarr[0][0].set_title(\"Location Vs Price\", fontsize=18)\n",
        "\n",
        "df.groupby('Transmission')['Price'].mean().sort_values(ascending=False).plot.bar(ax=axarr[0][1], fontsize=12)\n",
        "axarr[0][1].set_title(\"Transmission Vs Price\", fontsize=18)\n",
        "df.groupby('Fuel_Type')['Price'].mean().sort_values(ascending=False).plot.bar(ax=axarr[1][0], fontsize=12)\n",
        "axarr[1][0].set_title(\"Fuel_Type Vs Price\", fontsize=18)\n",
        "df.groupby('Owner_Type')['Price'].mean().sort_values(ascending=False).plot.bar(ax=axarr[1][1], fontsize=12)\n",
        "axarr[1][1].set_title(\"Owner_Type Vs Price\", fontsize=18)\n",
        "df.groupby('Brand')['Price'].mean().sort_values(ascending=False).head(10).plot.bar(ax=axarr[2][0], fontsize=12)\n",
        "axarr[2][0].set_title(\"Brand Vs Price\", fontsize=18)\n",
        "df.groupby('Model')['Price'].mean().sort_values(ascending=False).head(10).plot.bar(ax=axarr[2][1], fontsize=12)\n",
        "axarr[2][1].set_title(\"Model Vs Price\", fontsize=18)\n",
        "df.groupby('Seats')['Price'].mean().sort_values(ascending=False).plot.bar(ax=axarr[3][0], fontsize=12)\n",
        "axarr[3][0].set_title(\"Seats Vs Price\", fontsize=18)\n",
        "df.groupby('Car_Age')['Price'].mean().sort_values(ascending=False).plot.bar(ax=axarr[3][1], fontsize=12)\n",
        "axarr[3][1].set_title(\"Car_Age Vs Price\", fontsize=18)\n",
        "plt.subplots_adjust(hspace=1.0)\n",
        "plt.subplots_adjust(wspace=0.5)"
      ],
      "metadata": {
        "colab": {
          "base_uri": "https://localhost:8080/",
          "height": 971
        },
        "id": "_2vmnXM910ts",
        "outputId": "960f21bc-cde9-4154-a4dc-3cf384c6830b"
      },
      "execution_count": null,
      "outputs": [
        {
          "output_type": "display_data",
          "data": {
            "text/plain": [
              "<Figure size 864x1296 with 8 Axes>"
            ],
            "image/png": "[encoded data removed]"
          },
          "metadata": {
            "needs_background": "light"
          }
        }
      ]
    },
    {
      "cell_type": "markdown",
      "source": [
        "Observations\n",
        "\n",
        "The price of cars is high in Coimbatore and less price in Kolkata and Jaipur\n",
        "Automatic cars have more price than manual cars.\n",
        "Diesel and Electric cars have almost the same price, which is maximum, and LPG cars have the lowest price\n",
        "First-owner cars are higher in price, followed by a second\n",
        "The third owner’s price is lesser than the Fourth and above\n",
        "Lamborghini brand is the highest in price\n",
        "Gallardocoupe Model is the highest in price\n",
        "2 Seater has the highest price followed by 7 Seater\n",
        "The latest model cars are high in price"
      ],
      "metadata": {
        "id": "n6O6eCwR4Up4"
      }
    },
    {
      "cell_type": "markdown",
      "source": [
        "## **EDA Multivariate Analysis**"
      ],
      "metadata": {
        "id": "p7Ql8Zam3rsW"
      }
    },
    {
      "cell_type": "markdown",
      "source": [
        "## A heat mapfor Multivariate Analysis\n",
        "##Heat Map gives the correlation between the variables, whether it has a positive or negative correlation"
      ],
      "metadata": {
        "id": "m1tA51LH38Gz"
      }
    },
    {
      "cell_type": "code",
      "source": [
        "plt.figure(figsize=(12, 7))\n",
        "sns.heatmap(df.corr(), annot = True, vmin = -1, vmax = 1)\n",
        "plt.show()"
      ],
      "metadata": {
        "colab": {
          "base_uri": "https://localhost:8080/",
          "height": 426
        },
        "id": "ML1ez99L3tnL",
        "outputId": "05aae044-06f9-4803-8aa1-759c6741fc7b"
      },
      "execution_count": null,
      "outputs": [
        {
          "output_type": "display_data",
          "data": {
            "text/plain": [
              "<Figure size 864x504 with 2 Axes>"
            ],
            "image/png": "[encoded data removed]"
          },
          "metadata": {
            "needs_background": "light"
          }
        }
      ]
    },
    {
      "cell_type": "markdown",
      "source": [
        "From the Heat map, we can infer the following:\n",
        "\n",
        "The engine has a strong positive correlation to Power 0.86\n",
        "Price has a positive correlation to Engine 0.69 as well Power 0.77\n",
        "Mileage has correlated to Engine, Power, and Price negatively\n",
        "Price is moderately positive in correlation to year.\n",
        "Kilometer driven has a negative correlation to year not much impact on the price\n",
        "Car age has a negative correlation with Price\n",
        "car Age is positively correlated to Kilometers-Driven as the Age of the car increases; then the kilometer will also increase of car has a negative correlation with Mileage this makes sense"
      ],
      "metadata": {
        "id": "XQA1B1gw4RQI"
      }
    }
  ]
}